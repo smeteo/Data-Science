{
 "cells": [
  {
   "cell_type": "markdown",
   "metadata": {},
   "source": [
    "# EDA_Project_Solution Part 2 - Handling with Missing Values and Outliers"
   ]
  },
  {
   "cell_type": "markdown",
   "metadata": {},
   "source": [
    "## Importing libraries and precleaned data"
   ]
  },
  {
   "cell_type": "code",
   "execution_count": 1,
   "metadata": {},
   "outputs": [],
   "source": [
    "# Importing required libraries\n",
    "import pandas as pd\n",
    "import numpy as np\n",
    "import re\n",
    "import matplotlib.pyplot as plt\n",
    "import seaborn as sns\n",
    "from datetime import date\n",
    "from datetime import timedelta\n",
    "import statistics as stats\n",
    "%matplotlib inline\n",
    "plt.style.use('ggplot')\n",
    "\n",
    "# Pandas display options\n",
    "pd.set_option('display.max_columns', 500)\n",
    "pd.set_option('display.max_colwidth', 500)\n",
    "pd.set_option('display.max_info_columns', 500)\n",
    "pd.set_option('display.max_info_rows', 2000)\n",
    "pd.set_option('display.expand_frame_repr', True)\n",
    "pd.set_option('display.width', 2000)\n",
    "\n",
    "\n",
    "# Avoiding unneccessary warnings\n",
    "import warnings\n",
    "warnings.filterwarnings('ignore')\n",
    "warnings.warn(\"this will not show\")"
   ]
  },
  {
   "cell_type": "code",
   "execution_count": 3,
   "metadata": {},
   "outputs": [],
   "source": [
    "# Loading data\n",
    "car=pd.read_csv(\"car_Part1_cleaned.csv\")"
   ]
  },
  {
   "cell_type": "markdown",
   "metadata": {},
   "source": [
    "# Detecting and Filling Missing Values"
   ]
  },
  {
   "cell_type": "code",
   "execution_count": 4,
   "metadata": {},
   "outputs": [
    {
     "data": {
      "text/html": [
       "<div>\n",
       "<style scoped>\n",
       "    .dataframe tbody tr th:only-of-type {\n",
       "        vertical-align: middle;\n",
       "    }\n",
       "\n",
       "    .dataframe tbody tr th {\n",
       "        vertical-align: top;\n",
       "    }\n",
       "\n",
       "    .dataframe thead th {\n",
       "        text-align: right;\n",
       "    }\n",
       "</style>\n",
       "<table border=\"1\" class=\"dataframe\">\n",
       "  <thead>\n",
       "    <tr style=\"text-align: right;\">\n",
       "      <th></th>\n",
       "      <th>body_type</th>\n",
       "      <th>price</th>\n",
       "      <th>vat</th>\n",
       "      <th>make1</th>\n",
       "      <th>model1</th>\n",
       "      <th>short_description1_displ</th>\n",
       "      <th>km1</th>\n",
       "      <th>age1</th>\n",
       "      <th>hp1</th>\n",
       "      <th>Type1</th>\n",
       "      <th>Body_Color1</th>\n",
       "      <th>Upholstery1</th>\n",
       "      <th>Nr_of_Doors1</th>\n",
       "      <th>Nr_of_Seats1</th>\n",
       "      <th>Gearing_Type1</th>\n",
       "      <th>Displacement1</th>\n",
       "      <th>Cylinders1</th>\n",
       "      <th>Weight1</th>\n",
       "      <th>Drive_chain1</th>\n",
       "      <th>Fuel1</th>\n",
       "      <th>Consump_comb1</th>\n",
       "      <th>Consump_city1</th>\n",
       "      <th>Consump_country1</th>\n",
       "      <th>CO2_Emission1</th>\n",
       "      <th>Comfort_point1</th>\n",
       "      <th>Entertainment_point1</th>\n",
       "      <th>Extras_point1</th>\n",
       "      <th>Safety_point1</th>\n",
       "      <th>Gears1</th>\n",
       "    </tr>\n",
       "  </thead>\n",
       "  <tbody>\n",
       "    <tr>\n",
       "      <th>0</th>\n",
       "      <td>Sedans</td>\n",
       "      <td>15770</td>\n",
       "      <td>VAT deductible</td>\n",
       "      <td>Audi</td>\n",
       "      <td>A1</td>\n",
       "      <td>1.4</td>\n",
       "      <td>56013.0</td>\n",
       "      <td>3.917808</td>\n",
       "      <td>66.0</td>\n",
       "      <td>Used</td>\n",
       "      <td>Black</td>\n",
       "      <td>Cloth</td>\n",
       "      <td>5.0</td>\n",
       "      <td>5.0</td>\n",
       "      <td>Automatic</td>\n",
       "      <td>1.4</td>\n",
       "      <td>3.0</td>\n",
       "      <td>1220.0</td>\n",
       "      <td>front</td>\n",
       "      <td>Diesel</td>\n",
       "      <td>3.8</td>\n",
       "      <td>3.8</td>\n",
       "      <td>3.8</td>\n",
       "      <td>99.0</td>\n",
       "      <td>16.0</td>\n",
       "      <td>4.0</td>\n",
       "      <td>3.0</td>\n",
       "      <td>14.0</td>\n",
       "      <td>NaN</td>\n",
       "    </tr>\n",
       "    <tr>\n",
       "      <th>1</th>\n",
       "      <td>Sedans</td>\n",
       "      <td>14500</td>\n",
       "      <td>Price negotiable</td>\n",
       "      <td>Audi</td>\n",
       "      <td>A1</td>\n",
       "      <td>1.8</td>\n",
       "      <td>80000.0</td>\n",
       "      <td>2.753425</td>\n",
       "      <td>141.0</td>\n",
       "      <td>Used</td>\n",
       "      <td>Red</td>\n",
       "      <td>Cloth</td>\n",
       "      <td>3.0</td>\n",
       "      <td>4.0</td>\n",
       "      <td>Automatic</td>\n",
       "      <td>1.8</td>\n",
       "      <td>4.0</td>\n",
       "      <td>1255.0</td>\n",
       "      <td>front</td>\n",
       "      <td>Gasoline</td>\n",
       "      <td>5.6</td>\n",
       "      <td>5.6</td>\n",
       "      <td>5.6</td>\n",
       "      <td>129.0</td>\n",
       "      <td>9.0</td>\n",
       "      <td>5.0</td>\n",
       "      <td>4.0</td>\n",
       "      <td>15.0</td>\n",
       "      <td>7.0</td>\n",
       "    </tr>\n",
       "    <tr>\n",
       "      <th>2</th>\n",
       "      <td>Sedans</td>\n",
       "      <td>14640</td>\n",
       "      <td>VAT deductible</td>\n",
       "      <td>Audi</td>\n",
       "      <td>A1</td>\n",
       "      <td>1.6</td>\n",
       "      <td>83450.0</td>\n",
       "      <td>3.832877</td>\n",
       "      <td>85.0</td>\n",
       "      <td>Used</td>\n",
       "      <td>Black</td>\n",
       "      <td>Cloth</td>\n",
       "      <td>4.0</td>\n",
       "      <td>4.0</td>\n",
       "      <td>Automatic</td>\n",
       "      <td>1.6</td>\n",
       "      <td>NaN</td>\n",
       "      <td>NaN</td>\n",
       "      <td>front</td>\n",
       "      <td>Diesel</td>\n",
       "      <td>3.8</td>\n",
       "      <td>3.8</td>\n",
       "      <td>3.8</td>\n",
       "      <td>99.0</td>\n",
       "      <td>13.0</td>\n",
       "      <td>2.0</td>\n",
       "      <td>2.0</td>\n",
       "      <td>12.0</td>\n",
       "      <td>NaN</td>\n",
       "    </tr>\n",
       "    <tr>\n",
       "      <th>3</th>\n",
       "      <td>Sedans</td>\n",
       "      <td>14500</td>\n",
       "      <td>NaN</td>\n",
       "      <td>Audi</td>\n",
       "      <td>A1</td>\n",
       "      <td>1.4</td>\n",
       "      <td>73000.0</td>\n",
       "      <td>3.334247</td>\n",
       "      <td>66.0</td>\n",
       "      <td>Used</td>\n",
       "      <td>Brown</td>\n",
       "      <td>NaN</td>\n",
       "      <td>3.0</td>\n",
       "      <td>4.0</td>\n",
       "      <td>Automatic</td>\n",
       "      <td>1.4</td>\n",
       "      <td>3.0</td>\n",
       "      <td>1195.0</td>\n",
       "      <td>NaN</td>\n",
       "      <td>Diesel</td>\n",
       "      <td>3.8</td>\n",
       "      <td>3.8</td>\n",
       "      <td>3.8</td>\n",
       "      <td>99.0</td>\n",
       "      <td>16.0</td>\n",
       "      <td>8.0</td>\n",
       "      <td>3.0</td>\n",
       "      <td>14.0</td>\n",
       "      <td>6.0</td>\n",
       "    </tr>\n",
       "    <tr>\n",
       "      <th>4</th>\n",
       "      <td>Sedans</td>\n",
       "      <td>16790</td>\n",
       "      <td>NaN</td>\n",
       "      <td>Audi</td>\n",
       "      <td>A1</td>\n",
       "      <td>1.4</td>\n",
       "      <td>16200.0</td>\n",
       "      <td>3.586301</td>\n",
       "      <td>66.0</td>\n",
       "      <td>Used</td>\n",
       "      <td>Black</td>\n",
       "      <td>Cloth</td>\n",
       "      <td>5.0</td>\n",
       "      <td>5.0</td>\n",
       "      <td>Automatic</td>\n",
       "      <td>1.4</td>\n",
       "      <td>3.0</td>\n",
       "      <td>NaN</td>\n",
       "      <td>front</td>\n",
       "      <td>Diesel</td>\n",
       "      <td>4.1</td>\n",
       "      <td>4.1</td>\n",
       "      <td>4.1</td>\n",
       "      <td>109.0</td>\n",
       "      <td>13.0</td>\n",
       "      <td>7.0</td>\n",
       "      <td>4.0</td>\n",
       "      <td>13.0</td>\n",
       "      <td>NaN</td>\n",
       "    </tr>\n",
       "  </tbody>\n",
       "</table>\n",
       "</div>"
      ],
      "text/plain": [
       "  body_type  price               vat make1 model1  short_description1_displ      km1      age1    hp1 Type1 Body_Color1 Upholstery1  Nr_of_Doors1  Nr_of_Seats1 Gearing_Type1  Displacement1  Cylinders1  Weight1 Drive_chain1     Fuel1  Consump_comb1  Consump_city1  Consump_country1  CO2_Emission1  Comfort_point1  Entertainment_point1  Extras_point1  Safety_point1  Gears1\n",
       "0    Sedans  15770    VAT deductible  Audi     A1                       1.4  56013.0  3.917808   66.0  Used       Black       Cloth           5.0           5.0     Automatic            1.4         3.0   1220.0        front    Diesel            3.8            3.8               3.8           99.0            16.0                   4.0            3.0           14.0     NaN\n",
       "1    Sedans  14500  Price negotiable  Audi     A1                       1.8  80000.0  2.753425  141.0  Used         Red       Cloth           3.0           4.0     Automatic            1.8         4.0   1255.0        front  Gasoline            5.6            5.6               5.6          129.0             9.0                   5.0            4.0           15.0     7.0\n",
       "2    Sedans  14640    VAT deductible  Audi     A1                       1.6  83450.0  3.832877   85.0  Used       Black       Cloth           4.0           4.0     Automatic            1.6         NaN      NaN        front    Diesel            3.8            3.8               3.8           99.0            13.0                   2.0            2.0           12.0     NaN\n",
       "3    Sedans  14500               NaN  Audi     A1                       1.4  73000.0  3.334247   66.0  Used       Brown         NaN           3.0           4.0     Automatic            1.4         3.0   1195.0          NaN    Diesel            3.8            3.8               3.8           99.0            16.0                   8.0            3.0           14.0     6.0\n",
       "4    Sedans  16790               NaN  Audi     A1                       1.4  16200.0  3.586301   66.0  Used       Black       Cloth           5.0           5.0     Automatic            1.4         3.0      NaN        front    Diesel            4.1            4.1               4.1          109.0            13.0                   7.0            4.0           13.0     NaN"
      ]
     },
     "execution_count": 4,
     "metadata": {},
     "output_type": "execute_result"
    }
   ],
   "source": [
    "car.head()"
   ]
  },
  {
   "cell_type": "code",
   "execution_count": 5,
   "metadata": {},
   "outputs": [
    {
     "data": {
      "text/html": [
       "<div>\n",
       "<style scoped>\n",
       "    .dataframe tbody tr th:only-of-type {\n",
       "        vertical-align: middle;\n",
       "    }\n",
       "\n",
       "    .dataframe tbody tr th {\n",
       "        vertical-align: top;\n",
       "    }\n",
       "\n",
       "    .dataframe thead th {\n",
       "        text-align: right;\n",
       "    }\n",
       "</style>\n",
       "<table border=\"1\" class=\"dataframe\">\n",
       "  <thead>\n",
       "    <tr style=\"text-align: right;\">\n",
       "      <th></th>\n",
       "      <th>body_type</th>\n",
       "      <th>price</th>\n",
       "      <th>vat</th>\n",
       "      <th>make1</th>\n",
       "      <th>model1</th>\n",
       "      <th>short_description1_displ</th>\n",
       "      <th>km1</th>\n",
       "      <th>age1</th>\n",
       "      <th>hp1</th>\n",
       "      <th>Type1</th>\n",
       "      <th>Body_Color1</th>\n",
       "      <th>Upholstery1</th>\n",
       "      <th>Nr_of_Doors1</th>\n",
       "      <th>Nr_of_Seats1</th>\n",
       "      <th>Gearing_Type1</th>\n",
       "      <th>Displacement1</th>\n",
       "      <th>Cylinders1</th>\n",
       "      <th>Weight1</th>\n",
       "      <th>Drive_chain1</th>\n",
       "      <th>Fuel1</th>\n",
       "      <th>Consump_comb1</th>\n",
       "      <th>Consump_city1</th>\n",
       "      <th>Consump_country1</th>\n",
       "      <th>CO2_Emission1</th>\n",
       "      <th>Comfort_point1</th>\n",
       "      <th>Entertainment_point1</th>\n",
       "      <th>Extras_point1</th>\n",
       "      <th>Safety_point1</th>\n",
       "      <th>Gears1</th>\n",
       "    </tr>\n",
       "  </thead>\n",
       "  <tbody>\n",
       "    <tr>\n",
       "      <th>count</th>\n",
       "      <td>15859</td>\n",
       "      <td>15919.000000</td>\n",
       "      <td>11406</td>\n",
       "      <td>15919</td>\n",
       "      <td>15919</td>\n",
       "      <td>11636.000000</td>\n",
       "      <td>14895.000000</td>\n",
       "      <td>14322.000000</td>\n",
       "      <td>15831.000000</td>\n",
       "      <td>15917</td>\n",
       "      <td>15322</td>\n",
       "      <td>12197</td>\n",
       "      <td>15707.000000</td>\n",
       "      <td>14942.000000</td>\n",
       "      <td>15919</td>\n",
       "      <td>15423.000000</td>\n",
       "      <td>10239.000000</td>\n",
       "      <td>8945.000000</td>\n",
       "      <td>9061</td>\n",
       "      <td>15919</td>\n",
       "      <td>13886.000000</td>\n",
       "      <td>13483.000000</td>\n",
       "      <td>13543.000000</td>\n",
       "      <td>13483.000000</td>\n",
       "      <td>14999.000000</td>\n",
       "      <td>14545.000000</td>\n",
       "      <td>12957.000000</td>\n",
       "      <td>14937.000000</td>\n",
       "      <td>11207.000000</td>\n",
       "    </tr>\n",
       "    <tr>\n",
       "      <th>unique</th>\n",
       "      <td>9</td>\n",
       "      <td>NaN</td>\n",
       "      <td>2</td>\n",
       "      <td>3</td>\n",
       "      <td>9</td>\n",
       "      <td>NaN</td>\n",
       "      <td>NaN</td>\n",
       "      <td>NaN</td>\n",
       "      <td>NaN</td>\n",
       "      <td>5</td>\n",
       "      <td>14</td>\n",
       "      <td>3</td>\n",
       "      <td>NaN</td>\n",
       "      <td>NaN</td>\n",
       "      <td>3</td>\n",
       "      <td>NaN</td>\n",
       "      <td>NaN</td>\n",
       "      <td>NaN</td>\n",
       "      <td>3</td>\n",
       "      <td>4</td>\n",
       "      <td>NaN</td>\n",
       "      <td>NaN</td>\n",
       "      <td>NaN</td>\n",
       "      <td>NaN</td>\n",
       "      <td>NaN</td>\n",
       "      <td>NaN</td>\n",
       "      <td>NaN</td>\n",
       "      <td>NaN</td>\n",
       "      <td>NaN</td>\n",
       "    </tr>\n",
       "    <tr>\n",
       "      <th>top</th>\n",
       "      <td>Sedans</td>\n",
       "      <td>NaN</td>\n",
       "      <td>VAT deductible</td>\n",
       "      <td>Opel</td>\n",
       "      <td>A3</td>\n",
       "      <td>NaN</td>\n",
       "      <td>NaN</td>\n",
       "      <td>NaN</td>\n",
       "      <td>NaN</td>\n",
       "      <td>Used</td>\n",
       "      <td>Black</td>\n",
       "      <td>Cloth</td>\n",
       "      <td>NaN</td>\n",
       "      <td>NaN</td>\n",
       "      <td>Manual</td>\n",
       "      <td>NaN</td>\n",
       "      <td>NaN</td>\n",
       "      <td>NaN</td>\n",
       "      <td>front</td>\n",
       "      <td>Gasoline</td>\n",
       "      <td>NaN</td>\n",
       "      <td>NaN</td>\n",
       "      <td>NaN</td>\n",
       "      <td>NaN</td>\n",
       "      <td>NaN</td>\n",
       "      <td>NaN</td>\n",
       "      <td>NaN</td>\n",
       "      <td>NaN</td>\n",
       "      <td>NaN</td>\n",
       "    </tr>\n",
       "    <tr>\n",
       "      <th>freq</th>\n",
       "      <td>7903</td>\n",
       "      <td>NaN</td>\n",
       "      <td>10980</td>\n",
       "      <td>7343</td>\n",
       "      <td>3097</td>\n",
       "      <td>NaN</td>\n",
       "      <td>NaN</td>\n",
       "      <td>NaN</td>\n",
       "      <td>NaN</td>\n",
       "      <td>11096</td>\n",
       "      <td>3745</td>\n",
       "      <td>9689</td>\n",
       "      <td>NaN</td>\n",
       "      <td>NaN</td>\n",
       "      <td>8153</td>\n",
       "      <td>NaN</td>\n",
       "      <td>NaN</td>\n",
       "      <td>NaN</td>\n",
       "      <td>8886</td>\n",
       "      <td>8557</td>\n",
       "      <td>NaN</td>\n",
       "      <td>NaN</td>\n",
       "      <td>NaN</td>\n",
       "      <td>NaN</td>\n",
       "      <td>NaN</td>\n",
       "      <td>NaN</td>\n",
       "      <td>NaN</td>\n",
       "      <td>NaN</td>\n",
       "      <td>NaN</td>\n",
       "    </tr>\n",
       "    <tr>\n",
       "      <th>mean</th>\n",
       "      <td>NaN</td>\n",
       "      <td>18019.896727</td>\n",
       "      <td>NaN</td>\n",
       "      <td>NaN</td>\n",
       "      <td>NaN</td>\n",
       "      <td>1.482674</td>\n",
       "      <td>34130.127828</td>\n",
       "      <td>2.159684</td>\n",
       "      <td>88.367696</td>\n",
       "      <td>NaN</td>\n",
       "      <td>NaN</td>\n",
       "      <td>NaN</td>\n",
       "      <td>4.656077</td>\n",
       "      <td>4.949873</td>\n",
       "      <td>NaN</td>\n",
       "      <td>1.426097</td>\n",
       "      <td>3.797343</td>\n",
       "      <td>1351.106540</td>\n",
       "      <td>NaN</td>\n",
       "      <td>NaN</td>\n",
       "      <td>4.827942</td>\n",
       "      <td>4.826144</td>\n",
       "      <td>4.820778</td>\n",
       "      <td>115.076244</td>\n",
       "      <td>12.277218</td>\n",
       "      <td>4.688072</td>\n",
       "      <td>2.509763</td>\n",
       "      <td>12.793198</td>\n",
       "      <td>5.920585</td>\n",
       "    </tr>\n",
       "    <tr>\n",
       "      <th>std</th>\n",
       "      <td>NaN</td>\n",
       "      <td>7386.169409</td>\n",
       "      <td>NaN</td>\n",
       "      <td>NaN</td>\n",
       "      <td>NaN</td>\n",
       "      <td>0.423433</td>\n",
       "      <td>37352.977568</td>\n",
       "      <td>1.056179</td>\n",
       "      <td>26.835135</td>\n",
       "      <td>NaN</td>\n",
       "      <td>NaN</td>\n",
       "      <td>NaN</td>\n",
       "      <td>0.645298</td>\n",
       "      <td>0.489872</td>\n",
       "      <td>NaN</td>\n",
       "      <td>0.339893</td>\n",
       "      <td>0.415382</td>\n",
       "      <td>220.661532</td>\n",
       "      <td>NaN</td>\n",
       "      <td>NaN</td>\n",
       "      <td>0.923898</td>\n",
       "      <td>0.916413</td>\n",
       "      <td>0.924897</td>\n",
       "      <td>271.798847</td>\n",
       "      <td>5.960069</td>\n",
       "      <td>2.004563</td>\n",
       "      <td>1.535673</td>\n",
       "      <td>4.069892</td>\n",
       "      <td>0.738969</td>\n",
       "    </tr>\n",
       "    <tr>\n",
       "      <th>min</th>\n",
       "      <td>NaN</td>\n",
       "      <td>13.000000</td>\n",
       "      <td>NaN</td>\n",
       "      <td>NaN</td>\n",
       "      <td>NaN</td>\n",
       "      <td>0.000000</td>\n",
       "      <td>0.000000</td>\n",
       "      <td>0.000000</td>\n",
       "      <td>1.000000</td>\n",
       "      <td>NaN</td>\n",
       "      <td>NaN</td>\n",
       "      <td>NaN</td>\n",
       "      <td>1.000000</td>\n",
       "      <td>2.000000</td>\n",
       "      <td>NaN</td>\n",
       "      <td>0.000000</td>\n",
       "      <td>1.000000</td>\n",
       "      <td>1.000000</td>\n",
       "      <td>NaN</td>\n",
       "      <td>NaN</td>\n",
       "      <td>0.000000</td>\n",
       "      <td>0.000000</td>\n",
       "      <td>0.000000</td>\n",
       "      <td>0.000000</td>\n",
       "      <td>1.000000</td>\n",
       "      <td>1.000000</td>\n",
       "      <td>1.000000</td>\n",
       "      <td>1.000000</td>\n",
       "      <td>1.000000</td>\n",
       "    </tr>\n",
       "    <tr>\n",
       "      <th>25%</th>\n",
       "      <td>NaN</td>\n",
       "      <td>12850.000000</td>\n",
       "      <td>NaN</td>\n",
       "      <td>NaN</td>\n",
       "      <td>NaN</td>\n",
       "      <td>1.400000</td>\n",
       "      <td>5153.000000</td>\n",
       "      <td>1.334247</td>\n",
       "      <td>66.000000</td>\n",
       "      <td>NaN</td>\n",
       "      <td>NaN</td>\n",
       "      <td>NaN</td>\n",
       "      <td>4.000000</td>\n",
       "      <td>5.000000</td>\n",
       "      <td>NaN</td>\n",
       "      <td>1.200000</td>\n",
       "      <td>4.000000</td>\n",
       "      <td>1165.000000</td>\n",
       "      <td>NaN</td>\n",
       "      <td>NaN</td>\n",
       "      <td>4.100000</td>\n",
       "      <td>4.000000</td>\n",
       "      <td>4.000000</td>\n",
       "      <td>103.000000</td>\n",
       "      <td>7.000000</td>\n",
       "      <td>3.000000</td>\n",
       "      <td>1.000000</td>\n",
       "      <td>10.000000</td>\n",
       "      <td>5.000000</td>\n",
       "    </tr>\n",
       "    <tr>\n",
       "      <th>50%</th>\n",
       "      <td>NaN</td>\n",
       "      <td>16900.000000</td>\n",
       "      <td>NaN</td>\n",
       "      <td>NaN</td>\n",
       "      <td>NaN</td>\n",
       "      <td>1.500000</td>\n",
       "      <td>22740.000000</td>\n",
       "      <td>1.915068</td>\n",
       "      <td>85.000000</td>\n",
       "      <td>NaN</td>\n",
       "      <td>NaN</td>\n",
       "      <td>NaN</td>\n",
       "      <td>5.000000</td>\n",
       "      <td>5.000000</td>\n",
       "      <td>NaN</td>\n",
       "      <td>1.500000</td>\n",
       "      <td>4.000000</td>\n",
       "      <td>1288.000000</td>\n",
       "      <td>NaN</td>\n",
       "      <td>NaN</td>\n",
       "      <td>4.800000</td>\n",
       "      <td>4.800000</td>\n",
       "      <td>4.800000</td>\n",
       "      <td>114.000000</td>\n",
       "      <td>13.000000</td>\n",
       "      <td>5.000000</td>\n",
       "      <td>2.000000</td>\n",
       "      <td>13.000000</td>\n",
       "      <td>6.000000</td>\n",
       "    </tr>\n",
       "    <tr>\n",
       "      <th>75%</th>\n",
       "      <td>NaN</td>\n",
       "      <td>21900.000000</td>\n",
       "      <td>NaN</td>\n",
       "      <td>NaN</td>\n",
       "      <td>NaN</td>\n",
       "      <td>1.600000</td>\n",
       "      <td>49371.500000</td>\n",
       "      <td>3.000000</td>\n",
       "      <td>101.000000</td>\n",
       "      <td>NaN</td>\n",
       "      <td>NaN</td>\n",
       "      <td>NaN</td>\n",
       "      <td>5.000000</td>\n",
       "      <td>5.000000</td>\n",
       "      <td>NaN</td>\n",
       "      <td>1.600000</td>\n",
       "      <td>4.000000</td>\n",
       "      <td>1487.000000</td>\n",
       "      <td>NaN</td>\n",
       "      <td>NaN</td>\n",
       "      <td>5.400000</td>\n",
       "      <td>5.400000</td>\n",
       "      <td>5.400000</td>\n",
       "      <td>128.000000</td>\n",
       "      <td>16.000000</td>\n",
       "      <td>6.000000</td>\n",
       "      <td>3.000000</td>\n",
       "      <td>15.000000</td>\n",
       "      <td>6.000000</td>\n",
       "    </tr>\n",
       "    <tr>\n",
       "      <th>max</th>\n",
       "      <td>NaN</td>\n",
       "      <td>74600.000000</td>\n",
       "      <td>NaN</td>\n",
       "      <td>NaN</td>\n",
       "      <td>NaN</td>\n",
       "      <td>9.900000</td>\n",
       "      <td>317000.000000</td>\n",
       "      <td>3.917808</td>\n",
       "      <td>294.000000</td>\n",
       "      <td>NaN</td>\n",
       "      <td>NaN</td>\n",
       "      <td>NaN</td>\n",
       "      <td>7.000000</td>\n",
       "      <td>7.000000</td>\n",
       "      <td>NaN</td>\n",
       "      <td>16.000000</td>\n",
       "      <td>8.000000</td>\n",
       "      <td>2471.000000</td>\n",
       "      <td>NaN</td>\n",
       "      <td>NaN</td>\n",
       "      <td>9.100000</td>\n",
       "      <td>9.100000</td>\n",
       "      <td>9.100000</td>\n",
       "      <td>14457.000000</td>\n",
       "      <td>33.000000</td>\n",
       "      <td>10.000000</td>\n",
       "      <td>10.000000</td>\n",
       "      <td>29.000000</td>\n",
       "      <td>9.000000</td>\n",
       "    </tr>\n",
       "  </tbody>\n",
       "</table>\n",
       "</div>"
      ],
      "text/plain": [
       "       body_type         price             vat  make1 model1  short_description1_displ            km1          age1           hp1  Type1 Body_Color1 Upholstery1  Nr_of_Doors1  Nr_of_Seats1 Gearing_Type1  Displacement1    Cylinders1      Weight1 Drive_chain1     Fuel1  Consump_comb1  Consump_city1  Consump_country1  CO2_Emission1  Comfort_point1  Entertainment_point1  Extras_point1  Safety_point1        Gears1\n",
       "count      15859  15919.000000           11406  15919  15919              11636.000000   14895.000000  14322.000000  15831.000000  15917       15322       12197  15707.000000  14942.000000         15919   15423.000000  10239.000000  8945.000000         9061     15919   13886.000000   13483.000000      13543.000000   13483.000000    14999.000000          14545.000000   12957.000000   14937.000000  11207.000000\n",
       "unique         9           NaN               2      3      9                       NaN            NaN           NaN           NaN      5          14           3           NaN           NaN             3            NaN           NaN          NaN            3         4            NaN            NaN               NaN            NaN             NaN                   NaN            NaN            NaN           NaN\n",
       "top       Sedans           NaN  VAT deductible   Opel     A3                       NaN            NaN           NaN           NaN   Used       Black       Cloth           NaN           NaN        Manual            NaN           NaN          NaN        front  Gasoline            NaN            NaN               NaN            NaN             NaN                   NaN            NaN            NaN           NaN\n",
       "freq        7903           NaN           10980   7343   3097                       NaN            NaN           NaN           NaN  11096        3745        9689           NaN           NaN          8153            NaN           NaN          NaN         8886      8557            NaN            NaN               NaN            NaN             NaN                   NaN            NaN            NaN           NaN\n",
       "mean         NaN  18019.896727             NaN    NaN    NaN                  1.482674   34130.127828      2.159684     88.367696    NaN         NaN         NaN      4.656077      4.949873           NaN       1.426097      3.797343  1351.106540          NaN       NaN       4.827942       4.826144          4.820778     115.076244       12.277218              4.688072       2.509763      12.793198      5.920585\n",
       "std          NaN   7386.169409             NaN    NaN    NaN                  0.423433   37352.977568      1.056179     26.835135    NaN         NaN         NaN      0.645298      0.489872           NaN       0.339893      0.415382   220.661532          NaN       NaN       0.923898       0.916413          0.924897     271.798847        5.960069              2.004563       1.535673       4.069892      0.738969\n",
       "min          NaN     13.000000             NaN    NaN    NaN                  0.000000       0.000000      0.000000      1.000000    NaN         NaN         NaN      1.000000      2.000000           NaN       0.000000      1.000000     1.000000          NaN       NaN       0.000000       0.000000          0.000000       0.000000        1.000000              1.000000       1.000000       1.000000      1.000000\n",
       "25%          NaN  12850.000000             NaN    NaN    NaN                  1.400000    5153.000000      1.334247     66.000000    NaN         NaN         NaN      4.000000      5.000000           NaN       1.200000      4.000000  1165.000000          NaN       NaN       4.100000       4.000000          4.000000     103.000000        7.000000              3.000000       1.000000      10.000000      5.000000\n",
       "50%          NaN  16900.000000             NaN    NaN    NaN                  1.500000   22740.000000      1.915068     85.000000    NaN         NaN         NaN      5.000000      5.000000           NaN       1.500000      4.000000  1288.000000          NaN       NaN       4.800000       4.800000          4.800000     114.000000       13.000000              5.000000       2.000000      13.000000      6.000000\n",
       "75%          NaN  21900.000000             NaN    NaN    NaN                  1.600000   49371.500000      3.000000    101.000000    NaN         NaN         NaN      5.000000      5.000000           NaN       1.600000      4.000000  1487.000000          NaN       NaN       5.400000       5.400000          5.400000     128.000000       16.000000              6.000000       3.000000      15.000000      6.000000\n",
       "max          NaN  74600.000000             NaN    NaN    NaN                  9.900000  317000.000000      3.917808    294.000000    NaN         NaN         NaN      7.000000      7.000000           NaN      16.000000      8.000000  2471.000000          NaN       NaN       9.100000       9.100000          9.100000   14457.000000       33.000000             10.000000      10.000000      29.000000      9.000000"
      ]
     },
     "execution_count": 5,
     "metadata": {},
     "output_type": "execute_result"
    }
   ],
   "source": [
    "car.describe(include='all')"
   ]
  },
  {
   "cell_type": "code",
   "execution_count": 6,
   "metadata": {},
   "outputs": [
    {
     "data": {
      "text/plain": [
       "Gearing_Type1                  0\n",
       "price                          0\n",
       "Fuel1                          0\n",
       "make1                          0\n",
       "model1                         0\n",
       "Type1                          2\n",
       "body_type                     60\n",
       "hp1                           88\n",
       "Nr_of_Doors1                 212\n",
       "Displacement1                496\n",
       "Body_Color1                  597\n",
       "Comfort_point1               920\n",
       "Nr_of_Seats1                 977\n",
       "Safety_point1                982\n",
       "km1                         1024\n",
       "Entertainment_point1        1374\n",
       "age1                        1597\n",
       "Consump_comb1               2033\n",
       "Consump_country1            2376\n",
       "CO2_Emission1               2436\n",
       "Consump_city1               2436\n",
       "Extras_point1               2962\n",
       "Upholstery1                 3722\n",
       "short_description1_displ    4283\n",
       "vat                         4513\n",
       "Gears1                      4712\n",
       "Cylinders1                  5680\n",
       "Drive_chain1                6858\n",
       "Weight1                     6974\n",
       "dtype: int64"
      ]
     },
     "execution_count": 6,
     "metadata": {},
     "output_type": "execute_result"
    }
   ],
   "source": [
    "car.isnull().sum().sort_values()"
   ]
  },
  {
   "cell_type": "markdown",
   "metadata": {},
   "source": [
    "------------------------------------------------------------------"
   ]
  },
  {
   "cell_type": "markdown",
   "metadata": {},
   "source": [
    "*Starting to fill from smallest missing value column*"
   ]
  },
  {
   "cell_type": "markdown",
   "metadata": {},
   "source": [
    "## Type1"
   ]
  },
  {
   "cell_type": "code",
   "execution_count": 7,
   "metadata": {},
   "outputs": [
    {
     "data": {
      "text/plain": [
       "Type1\n",
       "Demonstration      5099.474443\n",
       "Employee's car    20021.291127\n",
       "New                  17.078652\n",
       "Pre-registered      149.253612\n",
       "Used              43685.697410\n",
       "Name: km1, dtype: float64"
      ]
     },
     "execution_count": 7,
     "metadata": {},
     "output_type": "execute_result"
    }
   ],
   "source": [
    "# Checking km average for Type\n",
    "car.groupby('Type1')['km1'].mean()"
   ]
  },
  {
   "cell_type": "code",
   "execution_count": 8,
   "metadata": {},
   "outputs": [
    {
     "data": {
      "text/plain": [
       "Type1\n",
       "Demonstration     25774.0\n",
       "Employee's car    18398.0\n",
       "New               23769.0\n",
       "Pre-registered    20743.0\n",
       "Used              16239.0\n",
       "Name: price, dtype: float64"
      ]
     },
     "execution_count": 8,
     "metadata": {},
     "output_type": "execute_result"
    }
   ],
   "source": [
    "# Checking price average for Type\n",
    "car.groupby('Type1')['price'].mean().round()"
   ]
  },
  {
   "cell_type": "code",
   "execution_count": 9,
   "metadata": {},
   "outputs": [
    {
     "data": {
      "text/html": [
       "<div>\n",
       "<style scoped>\n",
       "    .dataframe tbody tr th:only-of-type {\n",
       "        vertical-align: middle;\n",
       "    }\n",
       "\n",
       "    .dataframe tbody tr th {\n",
       "        vertical-align: top;\n",
       "    }\n",
       "\n",
       "    .dataframe thead th {\n",
       "        text-align: right;\n",
       "    }\n",
       "</style>\n",
       "<table border=\"1\" class=\"dataframe\">\n",
       "  <thead>\n",
       "    <tr style=\"text-align: right;\">\n",
       "      <th></th>\n",
       "      <th>body_type</th>\n",
       "      <th>price</th>\n",
       "      <th>vat</th>\n",
       "      <th>make1</th>\n",
       "      <th>model1</th>\n",
       "      <th>short_description1_displ</th>\n",
       "      <th>km1</th>\n",
       "      <th>age1</th>\n",
       "      <th>hp1</th>\n",
       "      <th>Type1</th>\n",
       "      <th>Body_Color1</th>\n",
       "      <th>Upholstery1</th>\n",
       "      <th>Nr_of_Doors1</th>\n",
       "      <th>Nr_of_Seats1</th>\n",
       "      <th>Gearing_Type1</th>\n",
       "      <th>Displacement1</th>\n",
       "      <th>Cylinders1</th>\n",
       "      <th>Weight1</th>\n",
       "      <th>Drive_chain1</th>\n",
       "      <th>Fuel1</th>\n",
       "      <th>Consump_comb1</th>\n",
       "      <th>Consump_city1</th>\n",
       "      <th>Consump_country1</th>\n",
       "      <th>CO2_Emission1</th>\n",
       "      <th>Comfort_point1</th>\n",
       "      <th>Entertainment_point1</th>\n",
       "      <th>Extras_point1</th>\n",
       "      <th>Safety_point1</th>\n",
       "      <th>Gears1</th>\n",
       "    </tr>\n",
       "  </thead>\n",
       "  <tbody>\n",
       "    <tr>\n",
       "      <th>2765</th>\n",
       "      <td>Sedans</td>\n",
       "      <td>17900</td>\n",
       "      <td>NaN</td>\n",
       "      <td>Audi</td>\n",
       "      <td>A3</td>\n",
       "      <td>2.0</td>\n",
       "      <td>115137.0</td>\n",
       "      <td>3.167123</td>\n",
       "      <td>110.0</td>\n",
       "      <td>NaN</td>\n",
       "      <td>White</td>\n",
       "      <td>Cloth</td>\n",
       "      <td>5.0</td>\n",
       "      <td>5.0</td>\n",
       "      <td>Automatic</td>\n",
       "      <td>2.0</td>\n",
       "      <td>4.0</td>\n",
       "      <td>NaN</td>\n",
       "      <td>front</td>\n",
       "      <td>Diesel</td>\n",
       "      <td>4.5</td>\n",
       "      <td>4.5</td>\n",
       "      <td>4.5</td>\n",
       "      <td>118.0</td>\n",
       "      <td>1.0</td>\n",
       "      <td>2.0</td>\n",
       "      <td>3.0</td>\n",
       "      <td>9.0</td>\n",
       "      <td>6.0</td>\n",
       "    </tr>\n",
       "    <tr>\n",
       "      <th>5237</th>\n",
       "      <td>Sedans</td>\n",
       "      <td>25400</td>\n",
       "      <td>NaN</td>\n",
       "      <td>Audi</td>\n",
       "      <td>A3</td>\n",
       "      <td>1.6</td>\n",
       "      <td>NaN</td>\n",
       "      <td>NaN</td>\n",
       "      <td>85.0</td>\n",
       "      <td>NaN</td>\n",
       "      <td>Grey</td>\n",
       "      <td>Cloth</td>\n",
       "      <td>5.0</td>\n",
       "      <td>5.0</td>\n",
       "      <td>Automatic</td>\n",
       "      <td>1.6</td>\n",
       "      <td>4.0</td>\n",
       "      <td>NaN</td>\n",
       "      <td>front</td>\n",
       "      <td>Diesel</td>\n",
       "      <td>3.9</td>\n",
       "      <td>3.9</td>\n",
       "      <td>3.9</td>\n",
       "      <td>103.0</td>\n",
       "      <td>1.0</td>\n",
       "      <td>2.0</td>\n",
       "      <td>1.0</td>\n",
       "      <td>9.0</td>\n",
       "      <td>7.0</td>\n",
       "    </tr>\n",
       "  </tbody>\n",
       "</table>\n",
       "</div>"
      ],
      "text/plain": [
       "     body_type  price  vat make1 model1  short_description1_displ       km1      age1    hp1 Type1 Body_Color1 Upholstery1  Nr_of_Doors1  Nr_of_Seats1 Gearing_Type1  Displacement1  Cylinders1  Weight1 Drive_chain1   Fuel1  Consump_comb1  Consump_city1  Consump_country1  CO2_Emission1  Comfort_point1  Entertainment_point1  Extras_point1  Safety_point1  Gears1\n",
       "2765    Sedans  17900  NaN  Audi     A3                       2.0  115137.0  3.167123  110.0   NaN       White       Cloth           5.0           5.0     Automatic            2.0         4.0      NaN        front  Diesel            4.5            4.5               4.5          118.0             1.0                   2.0            3.0            9.0     6.0\n",
       "5237    Sedans  25400  NaN  Audi     A3                       1.6       NaN       NaN   85.0   NaN        Grey       Cloth           5.0           5.0     Automatic            1.6         4.0      NaN        front  Diesel            3.9            3.9               3.9          103.0             1.0                   2.0            1.0            9.0     7.0"
      ]
     },
     "execution_count": 9,
     "metadata": {},
     "output_type": "execute_result"
    }
   ],
   "source": [
    "# Examining 2 missing values\n",
    "car[car['Type1'].isnull()]"
   ]
  },
  {
   "cell_type": "code",
   "execution_count": 10,
   "metadata": {},
   "outputs": [],
   "source": [
    "# Filling missing values with assigning most possible value\n",
    "car['Type1'][2765] = 'Used'\n",
    "car['Type1'][5237] = 'New'\n",
    "car['Type2'] = car['Type1']"
   ]
  },
  {
   "cell_type": "code",
   "execution_count": 11,
   "metadata": {},
   "outputs": [
    {
     "name": "stdout",
     "output_type": "stream",
     "text": [
      "Total Number of Missing Values for Type1 Column\n",
      "-------------------------------------------------------\n",
      "Before: 0 \n",
      "After : 0\n",
      "\n"
     ]
    }
   ],
   "source": [
    "print('Total Number of Missing Values for Type1 Column')\n",
    "print('-------------------------------------------------------')\n",
    "print('Before: {} \\nAfter : {}\\n'.format((car['Type1'].isnull().sum()), car['Type2'].isnull().sum()))"
   ]
  },
  {
   "cell_type": "markdown",
   "metadata": {},
   "source": [
    "---"
   ]
  },
  {
   "cell_type": "markdown",
   "metadata": {},
   "source": [
    "## body_type"
   ]
  },
  {
   "cell_type": "code",
   "execution_count": 12,
   "metadata": {},
   "outputs": [
    {
     "data": {
      "text/plain": [
       "model1    body_type    \n",
       "A1        Sedans           1538\n",
       "          Compact          1039\n",
       "          Station wagon      21\n",
       "          Other              13\n",
       "          Coupe               2\n",
       "          Van                 1\n",
       "A2        Off-Road            1\n",
       "A3        Sedans           2598\n",
       "          Station wagon     282\n",
       "          Compact           182\n",
       "          Other              16\n",
       "          Convertible         8\n",
       "          Coupe               4\n",
       "Astra     Station wagon    1211\n",
       "          Sedans           1053\n",
       "          Compact           185\n",
       "          Other              67\n",
       "          Coupe               2\n",
       "          Off-Road            1\n",
       "Clio      Sedans            918\n",
       "          Compact           484\n",
       "          Station wagon     337\n",
       "          Other              51\n",
       "          Transporter        29\n",
       "          Off-Road            2\n",
       "          Van                 2\n",
       "          Coupe               1\n",
       "Corsa     Compact          1230\n",
       "          Sedans            875\n",
       "          Other              87\n",
       "          Coupe              13\n",
       "          Transporter         7\n",
       "          Off-Road            3\n",
       "          Van                 2\n",
       "Duster    Off-Road           34\n",
       "Espace    Van               777\n",
       "          Station wagon      91\n",
       "          Transporter        52\n",
       "          Sedans             21\n",
       "          Off-Road            8\n",
       "          Other               8\n",
       "          Compact             6\n",
       "          Coupe               2\n",
       "Insignia  Station wagon    1611\n",
       "          Sedans            900\n",
       "          Other              48\n",
       "          Compact            27\n",
       "          Off-Road            7\n",
       "          Coupe               1\n",
       "          Van                 1\n",
       "Name: body_type, dtype: int64"
      ]
     },
     "execution_count": 12,
     "metadata": {},
     "output_type": "execute_result"
    }
   ],
   "source": [
    "# Checking most frequent values in model group\n",
    "car.groupby('model1')['body_type'].value_counts()"
   ]
  },
  {
   "cell_type": "code",
   "execution_count": 13,
   "metadata": {},
   "outputs": [],
   "source": [
    "# Filling missing values with most frequent value of model group \n",
    "car['body_type2'] = car['body_type'].fillna(car.groupby('model1')['body_type'].apply(lambda x: x.fillna(x.mode().iloc[0])))"
   ]
  },
  {
   "cell_type": "code",
   "execution_count": 14,
   "metadata": {},
   "outputs": [
    {
     "name": "stdout",
     "output_type": "stream",
     "text": [
      "Total Number of Missing Values for body_type Column\n",
      "-------------------------------------------------------\n",
      "Before: 60 \n",
      "After : 0\n",
      "\n"
     ]
    }
   ],
   "source": [
    "print('Total Number of Missing Values for body_type Column')\n",
    "print('-------------------------------------------------------')\n",
    "print('Before: {} \\nAfter : {}\\n'.format((car['body_type'].isnull().sum()), car['body_type2'].isnull().sum()))"
   ]
  },
  {
   "cell_type": "markdown",
   "metadata": {},
   "source": [
    "## hp1"
   ]
  },
  {
   "cell_type": "code",
   "execution_count": 15,
   "metadata": {},
   "outputs": [
    {
     "data": {
      "text/plain": [
       "Displacement1  hp1  \n",
       "0.0            100.0    14\n",
       "               54.0     13\n",
       "               147.0     6\n",
       "               121.0     2\n",
       "               125.0     2\n",
       "                        ..\n",
       "2.5            294.0    18\n",
       "               270.0     2\n",
       "3.0            100.0     1\n",
       "15.9           100.0     1\n",
       "16.0           88.0      1\n",
       "Name: hp1, Length: 167, dtype: int64"
      ]
     },
     "execution_count": 15,
     "metadata": {},
     "output_type": "execute_result"
    }
   ],
   "source": [
    "# Checking most frequent values in Displacement1 group\n",
    "car.groupby('Displacement1')['hp1'].value_counts()"
   ]
  },
  {
   "cell_type": "code",
   "execution_count": 16,
   "metadata": {},
   "outputs": [],
   "source": [
    "# Filling missing values with most frequent value of Displacement1 group \n",
    "car['hp2'] = car['hp1'].fillna(car.groupby('Displacement1')['hp1'].apply(lambda x: x.fillna(x.mode()[0])))"
   ]
  },
  {
   "cell_type": "code",
   "execution_count": 17,
   "metadata": {},
   "outputs": [
    {
     "name": "stdout",
     "output_type": "stream",
     "text": [
      "Total Number of Missing Values for hp1 Column\n",
      "-------------------------------------------------------\n",
      "Before: 88 \n",
      "After : 77\n",
      "\n"
     ]
    }
   ],
   "source": [
    "print('Total Number of Missing Values for hp1 Column')\n",
    "print('-------------------------------------------------------')\n",
    "print('Before: {} \\nAfter : {}\\n'.format((car['hp1'].isnull().sum()), car['hp2'].isnull().sum()))"
   ]
  },
  {
   "cell_type": "code",
   "execution_count": 18,
   "metadata": {},
   "outputs": [],
   "source": [
    "# Filling missing values with most frequent value of model group \n",
    "car['hp2'] = car['hp2'].fillna(car.groupby('model1')['hp2'].apply(lambda x: x.fillna(x.mode()[0])))"
   ]
  },
  {
   "cell_type": "code",
   "execution_count": 19,
   "metadata": {},
   "outputs": [
    {
     "name": "stdout",
     "output_type": "stream",
     "text": [
      "Total Number of Missing Values for hp1 Column\n",
      "-------------------------------------------------------\n",
      "Before: 88 \n",
      "After : 0\n",
      "\n"
     ]
    }
   ],
   "source": [
    "print('Total Number of Missing Values for hp1 Column')\n",
    "print('-------------------------------------------------------')\n",
    "print('Before: {} \\nAfter : {}\\n'.format((car['hp1'].isnull().sum()), car['hp2'].isnull().sum()))"
   ]
  },
  {
   "cell_type": "markdown",
   "metadata": {},
   "source": [
    "## Nr_of_Doors1"
   ]
  },
  {
   "cell_type": "code",
   "execution_count": 20,
   "metadata": {},
   "outputs": [
    {
     "data": {
      "text/plain": [
       "model1    Nr_of_Doors1\n",
       "A1        5.0             1741\n",
       "          4.0              536\n",
       "          3.0              211\n",
       "          2.0               99\n",
       "A2        5.0                1\n",
       "A3        5.0             2297\n",
       "          4.0              634\n",
       "          3.0              113\n",
       "          2.0               27\n",
       "Astra     5.0             1965\n",
       "          4.0              533\n",
       "          3.0                4\n",
       "Clio      5.0             1522\n",
       "          4.0              272\n",
       "          1.0                1\n",
       "Corsa     5.0             1277\n",
       "          3.0              504\n",
       "          4.0              291\n",
       "          2.0               93\n",
       "Duster    5.0               34\n",
       "Espace    5.0              873\n",
       "          4.0              105\n",
       "          7.0                1\n",
       "Insignia  5.0             1865\n",
       "          4.0              708\n",
       "Name: Nr_of_Doors1, dtype: int64"
      ]
     },
     "execution_count": 20,
     "metadata": {},
     "output_type": "execute_result"
    }
   ],
   "source": [
    "# Checking most frequent values in model group\n",
    "car.groupby('model1')['Nr_of_Doors1'].value_counts()"
   ]
  },
  {
   "cell_type": "code",
   "execution_count": 21,
   "metadata": {},
   "outputs": [],
   "source": [
    "# Filling missing values with most frequent value of model group \n",
    "car['Nr_of_Doors2'] = car['Nr_of_Doors1'].fillna(car.groupby('model1')['Nr_of_Doors1'].apply(lambda x: x.fillna(x.mode().iloc[0])))"
   ]
  },
  {
   "cell_type": "code",
   "execution_count": 22,
   "metadata": {},
   "outputs": [
    {
     "name": "stdout",
     "output_type": "stream",
     "text": [
      "Total Number of Missing Values for Nr_of_Doors1 Column\n",
      "-------------------------------------------------------\n",
      "Before: 212 \n",
      "After : 0\n",
      "\n"
     ]
    }
   ],
   "source": [
    "print('Total Number of Missing Values for Nr_of_Doors1 Column')\n",
    "print('-------------------------------------------------------')\n",
    "print('Before: {} \\nAfter : {}\\n'.format((car['Nr_of_Doors1'].isnull().sum()), car['Nr_of_Doors2'].isnull().sum()))"
   ]
  },
  {
   "cell_type": "markdown",
   "metadata": {},
   "source": [
    "## Displacement1"
   ]
  },
  {
   "cell_type": "code",
   "execution_count": 23,
   "metadata": {},
   "outputs": [
    {
     "data": {
      "text/html": [
       "<div>\n",
       "<style scoped>\n",
       "    .dataframe tbody tr th:only-of-type {\n",
       "        vertical-align: middle;\n",
       "    }\n",
       "\n",
       "    .dataframe tbody tr th {\n",
       "        vertical-align: top;\n",
       "    }\n",
       "\n",
       "    .dataframe thead th {\n",
       "        text-align: right;\n",
       "    }\n",
       "</style>\n",
       "<table border=\"1\" class=\"dataframe\">\n",
       "  <thead>\n",
       "    <tr style=\"text-align: right;\">\n",
       "      <th></th>\n",
       "      <th>model1</th>\n",
       "      <th>Displacement1</th>\n",
       "      <th>short_description1_displ</th>\n",
       "    </tr>\n",
       "  </thead>\n",
       "  <tbody>\n",
       "    <tr>\n",
       "      <th>142</th>\n",
       "      <td>A1</td>\n",
       "      <td>NaN</td>\n",
       "      <td>1.6</td>\n",
       "    </tr>\n",
       "    <tr>\n",
       "      <th>191</th>\n",
       "      <td>A1</td>\n",
       "      <td>NaN</td>\n",
       "      <td>1.4</td>\n",
       "    </tr>\n",
       "    <tr>\n",
       "      <th>404</th>\n",
       "      <td>A1</td>\n",
       "      <td>NaN</td>\n",
       "      <td>1.4</td>\n",
       "    </tr>\n",
       "    <tr>\n",
       "      <th>412</th>\n",
       "      <td>A1</td>\n",
       "      <td>NaN</td>\n",
       "      <td>1.6</td>\n",
       "    </tr>\n",
       "    <tr>\n",
       "      <th>505</th>\n",
       "      <td>A1</td>\n",
       "      <td>NaN</td>\n",
       "      <td>1.0</td>\n",
       "    </tr>\n",
       "    <tr>\n",
       "      <th>...</th>\n",
       "      <td>...</td>\n",
       "      <td>...</td>\n",
       "      <td>...</td>\n",
       "    </tr>\n",
       "    <tr>\n",
       "      <th>15472</th>\n",
       "      <td>Espace</td>\n",
       "      <td>NaN</td>\n",
       "      <td>1.6</td>\n",
       "    </tr>\n",
       "    <tr>\n",
       "      <th>15477</th>\n",
       "      <td>Espace</td>\n",
       "      <td>NaN</td>\n",
       "      <td>1.6</td>\n",
       "    </tr>\n",
       "    <tr>\n",
       "      <th>15496</th>\n",
       "      <td>Espace</td>\n",
       "      <td>NaN</td>\n",
       "      <td>1.6</td>\n",
       "    </tr>\n",
       "    <tr>\n",
       "      <th>15573</th>\n",
       "      <td>Espace</td>\n",
       "      <td>NaN</td>\n",
       "      <td>1.6</td>\n",
       "    </tr>\n",
       "    <tr>\n",
       "      <th>15706</th>\n",
       "      <td>Espace</td>\n",
       "      <td>NaN</td>\n",
       "      <td>1.6</td>\n",
       "    </tr>\n",
       "  </tbody>\n",
       "</table>\n",
       "<p>337 rows × 3 columns</p>\n",
       "</div>"
      ],
      "text/plain": [
       "       model1  Displacement1  short_description1_displ\n",
       "142        A1            NaN                       1.6\n",
       "191        A1            NaN                       1.4\n",
       "404        A1            NaN                       1.4\n",
       "412        A1            NaN                       1.6\n",
       "505        A1            NaN                       1.0\n",
       "...       ...            ...                       ...\n",
       "15472  Espace            NaN                       1.6\n",
       "15477  Espace            NaN                       1.6\n",
       "15496  Espace            NaN                       1.6\n",
       "15573  Espace            NaN                       1.6\n",
       "15706  Espace            NaN                       1.6\n",
       "\n",
       "[337 rows x 3 columns]"
      ]
     },
     "execution_count": 23,
     "metadata": {},
     "output_type": "execute_result"
    }
   ],
   "source": [
    "# Checking Displacement1 and short_description1_displ columns before filling\n",
    "car[(car['Displacement1'].isnull())&(car['short_description1_displ'].notnull())][['model1', 'Displacement1', 'short_description1_displ']]"
   ]
  },
  {
   "cell_type": "code",
   "execution_count": 24,
   "metadata": {},
   "outputs": [],
   "source": [
    "# Filling Missing 337 Values with short_description1_displ\n",
    "car['Displacement2'] = car['Displacement1'].fillna(car['short_description1_displ'])"
   ]
  },
  {
   "cell_type": "code",
   "execution_count": 25,
   "metadata": {},
   "outputs": [
    {
     "name": "stdout",
     "output_type": "stream",
     "text": [
      "Total Number of Missing Values for Displacement1 Column\n",
      "-------------------------------------------------------\n",
      "Before: 496 \n",
      "After : 159\n",
      "\n"
     ]
    }
   ],
   "source": [
    "print('Total Number of Missing Values for Displacement1 Column')\n",
    "print('-------------------------------------------------------')\n",
    "print('Before: {} \\nAfter : {}\\n'.format((car['Displacement1'].isnull().sum()), car['Displacement2'].isnull().sum()))"
   ]
  },
  {
   "cell_type": "code",
   "execution_count": 26,
   "metadata": {},
   "outputs": [
    {
     "data": {
      "text/html": [
       "<div>\n",
       "<style scoped>\n",
       "    .dataframe tbody tr th:only-of-type {\n",
       "        vertical-align: middle;\n",
       "    }\n",
       "\n",
       "    .dataframe tbody tr th {\n",
       "        vertical-align: top;\n",
       "    }\n",
       "\n",
       "    .dataframe thead th {\n",
       "        text-align: right;\n",
       "    }\n",
       "</style>\n",
       "<table border=\"1\" class=\"dataframe\">\n",
       "  <thead>\n",
       "    <tr style=\"text-align: right;\">\n",
       "      <th></th>\n",
       "      <th>Displacement1</th>\n",
       "      <th>short_description1_displ</th>\n",
       "    </tr>\n",
       "  </thead>\n",
       "  <tbody>\n",
       "    <tr>\n",
       "      <th>0</th>\n",
       "      <td>1.4</td>\n",
       "      <td>1.4</td>\n",
       "    </tr>\n",
       "    <tr>\n",
       "      <th>1</th>\n",
       "      <td>1.8</td>\n",
       "      <td>1.8</td>\n",
       "    </tr>\n",
       "    <tr>\n",
       "      <th>2</th>\n",
       "      <td>1.6</td>\n",
       "      <td>1.6</td>\n",
       "    </tr>\n",
       "    <tr>\n",
       "      <th>3</th>\n",
       "      <td>1.4</td>\n",
       "      <td>1.4</td>\n",
       "    </tr>\n",
       "    <tr>\n",
       "      <th>4</th>\n",
       "      <td>1.4</td>\n",
       "      <td>1.4</td>\n",
       "    </tr>\n",
       "    <tr>\n",
       "      <th>...</th>\n",
       "      <td>...</td>\n",
       "      <td>...</td>\n",
       "    </tr>\n",
       "    <tr>\n",
       "      <th>15914</th>\n",
       "      <td>2.0</td>\n",
       "      <td>NaN</td>\n",
       "    </tr>\n",
       "    <tr>\n",
       "      <th>15915</th>\n",
       "      <td>1.8</td>\n",
       "      <td>NaN</td>\n",
       "    </tr>\n",
       "    <tr>\n",
       "      <th>15916</th>\n",
       "      <td>2.0</td>\n",
       "      <td>NaN</td>\n",
       "    </tr>\n",
       "    <tr>\n",
       "      <th>15917</th>\n",
       "      <td>2.0</td>\n",
       "      <td>NaN</td>\n",
       "    </tr>\n",
       "    <tr>\n",
       "      <th>15918</th>\n",
       "      <td>1.8</td>\n",
       "      <td>NaN</td>\n",
       "    </tr>\n",
       "  </tbody>\n",
       "</table>\n",
       "<p>15760 rows × 2 columns</p>\n",
       "</div>"
      ],
      "text/plain": [
       "       Displacement1  short_description1_displ\n",
       "0                1.4                       1.4\n",
       "1                1.8                       1.8\n",
       "2                1.6                       1.6\n",
       "3                1.4                       1.4\n",
       "4                1.4                       1.4\n",
       "...              ...                       ...\n",
       "15914            2.0                       NaN\n",
       "15915            1.8                       NaN\n",
       "15916            2.0                       NaN\n",
       "15917            2.0                       NaN\n",
       "15918            1.8                       NaN\n",
       "\n",
       "[15760 rows x 2 columns]"
      ]
     },
     "execution_count": 26,
     "metadata": {},
     "output_type": "execute_result"
    }
   ],
   "source": [
    "# Double Check of filling\n",
    "car[car['Displacement2'].notnull()][['Displacement1', 'short_description1_displ']]"
   ]
  },
  {
   "cell_type": "code",
   "execution_count": 27,
   "metadata": {},
   "outputs": [
    {
     "data": {
      "text/plain": [
       "model1    Displacement2\n",
       "A1        1.0              1581\n",
       "          1.4               659\n",
       "          1.6               313\n",
       "          1.5                16\n",
       "          1.8                16\n",
       "          2.0                14\n",
       "          0.9                 5\n",
       "          0.3                 1\n",
       "          1.2                 1\n",
       "          9.8                 1\n",
       "A2        1.6                 1\n",
       "A3        1.6              1809\n",
       "          1.0               557\n",
       "          2.0               309\n",
       "          1.5               180\n",
       "          1.4               171\n",
       "          1.2                36\n",
       "          2.5                20\n",
       "          1.8                 2\n",
       "          1.9                 1\n",
       "Astra     1.6              1217\n",
       "          1.4               865\n",
       "          1.0               424\n",
       "          1.5                 6\n",
       "          0.1                 5\n",
       "          1.7                 3\n",
       "          15.9                1\n",
       "Clio      1.5               639\n",
       "          0.9               372\n",
       "          1.2               334\n",
       "          1.1               289\n",
       "          1.6               141\n",
       "          0.0                14\n",
       "          1.0                 3\n",
       "          0.1                 1\n",
       "          1.3                 1\n",
       "Corsa     1.4              1350\n",
       "          1.2               812\n",
       "          1.3                38\n",
       "          1.0                10\n",
       "          0.1                 1\n",
       "Duster    1.6                26\n",
       "          2.0                 8\n",
       "Espace    1.6               620\n",
       "          1.8               193\n",
       "          2.0               104\n",
       "          0.2                 6\n",
       "Insignia  1.6              1121\n",
       "          2.0               752\n",
       "          1.5               614\n",
       "          1.4                69\n",
       "          0.0                24\n",
       "          1.9                 1\n",
       "          2.8                 1\n",
       "          3.0                 1\n",
       "          16.0                1\n",
       "Name: Displacement2, dtype: int64"
      ]
     },
     "execution_count": 27,
     "metadata": {},
     "output_type": "execute_result"
    }
   ],
   "source": [
    "# Checking most frequent Displacement values in model group\n",
    "car.groupby('model1')['Displacement2'].value_counts()"
   ]
  },
  {
   "cell_type": "code",
   "execution_count": 28,
   "metadata": {},
   "outputs": [],
   "source": [
    "# Filling missing values with most frequent value of model group \n",
    "car['Displacement2'] = car['Displacement2'].fillna(car.groupby('model1')['Displacement2'].apply(lambda x: x.fillna(x.mode().iloc[0])))"
   ]
  },
  {
   "cell_type": "code",
   "execution_count": 29,
   "metadata": {},
   "outputs": [
    {
     "name": "stdout",
     "output_type": "stream",
     "text": [
      "Total Number of Missing Values for Displacement1 Column\n",
      "-------------------------------------------------------\n",
      "Before: 496 \n",
      "After : 0\n",
      "\n"
     ]
    }
   ],
   "source": [
    "print('Total Number of Missing Values for Displacement1 Column')\n",
    "print('-------------------------------------------------------')\n",
    "print('Before: {} \\nAfter : {}\\n'.format((car['Displacement1'].isnull().sum()), car['Displacement2'].isnull().sum()))"
   ]
  },
  {
   "cell_type": "code",
   "execution_count": 30,
   "metadata": {},
   "outputs": [
    {
     "data": {
      "text/plain": [
       "'Corsa'"
      ]
     },
     "execution_count": 30,
     "metadata": {},
     "output_type": "execute_result"
    }
   ],
   "source": [
    "# Sample check\n",
    "car['model1'].iloc[8806]"
   ]
  },
  {
   "cell_type": "code",
   "execution_count": 31,
   "metadata": {},
   "outputs": [
    {
     "data": {
      "text/plain": [
       "142      1.6\n",
       "191      1.4\n",
       "404      1.4\n",
       "412      1.6\n",
       "505      1.0\n",
       "        ... \n",
       "15791    1.6\n",
       "15795    1.6\n",
       "15804    1.6\n",
       "15805    1.6\n",
       "15906    1.6\n",
       "Name: Displacement2, Length: 496, dtype: float64"
      ]
     },
     "execution_count": 31,
     "metadata": {},
     "output_type": "execute_result"
    }
   ],
   "source": [
    "# Double Check of filling\n",
    "car[car['Displacement1'].isnull()]['Displacement2']"
   ]
  },
  {
   "cell_type": "markdown",
   "metadata": {},
   "source": [
    "## Body_Color1"
   ]
  },
  {
   "cell_type": "code",
   "execution_count": 32,
   "metadata": {},
   "outputs": [
    {
     "data": {
      "text/plain": [
       "model1    Body_Color1\n",
       "A1        White          727\n",
       "          Black          717\n",
       "          Grey           327\n",
       "          Blue           286\n",
       "          Red            250\n",
       "                        ... \n",
       "Insignia  Green           49\n",
       "          Red             43\n",
       "          Beige           12\n",
       "          Bronze           1\n",
       "          Orange           1\n",
       "Name: Body_Color1, Length: 77, dtype: int64"
      ]
     },
     "execution_count": 32,
     "metadata": {},
     "output_type": "execute_result"
    }
   ],
   "source": [
    "# Checking most frequent Body_Color1 values in model group\n",
    "car.groupby('model1')['Body_Color1'].value_counts()"
   ]
  },
  {
   "cell_type": "code",
   "execution_count": 33,
   "metadata": {},
   "outputs": [],
   "source": [
    "# Filling missing values with most frequent value of model group \n",
    "car['Body_Color2'] = car['Body_Color1'].fillna(car.groupby('model1')['Body_Color1'].apply(lambda x: x.fillna(x.mode().iloc[0])))"
   ]
  },
  {
   "cell_type": "code",
   "execution_count": 34,
   "metadata": {},
   "outputs": [
    {
     "name": "stdout",
     "output_type": "stream",
     "text": [
      "Total Number of Missing Values for Body_Color1 Column\n",
      "-------------------------------------------------------\n",
      "Before: 597 \n",
      "After : 0\n",
      "\n"
     ]
    }
   ],
   "source": [
    "print('Total Number of Missing Values for Body_Color1 Column')\n",
    "print('-------------------------------------------------------')\n",
    "print('Before: {} \\nAfter : {}\\n'.format((car['Body_Color1'].isnull().sum()), car['Body_Color2'].isnull().sum()))"
   ]
  },
  {
   "cell_type": "markdown",
   "metadata": {},
   "source": [
    "## Comfort_point1"
   ]
  },
  {
   "cell_type": "code",
   "execution_count": 35,
   "metadata": {},
   "outputs": [
    {
     "data": {
      "text/plain": [
       "model1\n",
       "A1          12.0\n",
       "A2          15.0\n",
       "A3          11.0\n",
       "Astra       14.0\n",
       "Clio         9.0\n",
       "Corsa        9.0\n",
       "Duster       2.0\n",
       "Espace      16.0\n",
       "Insignia    17.0\n",
       "Name: Comfort_point1, dtype: float64"
      ]
     },
     "execution_count": 35,
     "metadata": {},
     "output_type": "execute_result"
    }
   ],
   "source": [
    "# Checking average Comfort_point1 values in model group\n",
    "car.groupby('model1')['Comfort_point1'].mean().round(0)"
   ]
  },
  {
   "cell_type": "code",
   "execution_count": 44,
   "metadata": {},
   "outputs": [],
   "source": [
    "# Filling missing values with average value of model group \n",
    "car['Comfort_point2'] = car['Comfort_point1'].fillna(car.groupby('model1')['Comfort_point1'].apply(lambda x: x.fillna(round(x.mean(),0))))"
   ]
  },
  {
   "cell_type": "code",
   "execution_count": 45,
   "metadata": {},
   "outputs": [
    {
     "name": "stdout",
     "output_type": "stream",
     "text": [
      "Total Number of Missing Values for Body_Color1 Column\n",
      "-------------------------------------------------------\n",
      "Before: 920 \n",
      "After : 0\n",
      "\n"
     ]
    }
   ],
   "source": [
    "print('Total Number of Missing Values for Body_Color1 Column')\n",
    "print('-------------------------------------------------------')\n",
    "print('Before: {} \\nAfter : {}\\n'.format((car['Comfort_point1'].isnull().sum()), car['Comfort_point2'].isnull().sum()))"
   ]
  },
  {
   "cell_type": "markdown",
   "metadata": {},
   "source": [
    "## Nr_of_Seats1"
   ]
  },
  {
   "cell_type": "code",
   "execution_count": 46,
   "metadata": {},
   "outputs": [
    {
     "data": {
      "text/plain": [
       "model1    Nr_of_Seats1\n",
       "A1        5.0             1392\n",
       "          4.0             1080\n",
       "          3.0                1\n",
       "          6.0                1\n",
       "A2        5.0                1\n",
       "A3        5.0             2951\n",
       "          4.0               25\n",
       "Astra     5.0             2357\n",
       "          4.0                5\n",
       "Clio      5.0             1520\n",
       "          2.0              110\n",
       "          4.0                5\n",
       "Corsa     5.0             2087\n",
       "          4.0                7\n",
       "          2.0                5\n",
       "Duster    5.0               34\n",
       "Espace    5.0              507\n",
       "          7.0              362\n",
       "          4.0                1\n",
       "          6.0                1\n",
       "Insignia  5.0             2487\n",
       "          4.0                2\n",
       "          2.0                1\n",
       "Name: Nr_of_Seats1, dtype: int64"
      ]
     },
     "execution_count": 46,
     "metadata": {},
     "output_type": "execute_result"
    }
   ],
   "source": [
    "# Checking most frequent values in model group\n",
    "car.groupby('model1')['Nr_of_Seats1'].value_counts()"
   ]
  },
  {
   "cell_type": "code",
   "execution_count": 47,
   "metadata": {},
   "outputs": [],
   "source": [
    "# Filling missing values with most frequent value of model group \n",
    "car['Nr_of_Seats2'] = car['Nr_of_Seats1'].fillna(car.groupby('model1')['Nr_of_Seats1'].apply(lambda x: x.fillna(x.mode().iloc[0])))"
   ]
  },
  {
   "cell_type": "code",
   "execution_count": 48,
   "metadata": {},
   "outputs": [
    {
     "name": "stdout",
     "output_type": "stream",
     "text": [
      "Total Number of Missing Values for Body_Color1 Column\n",
      "-------------------------------------------------------\n",
      "Before: 977 \n",
      "After : 0\n",
      "\n"
     ]
    }
   ],
   "source": [
    "print('Total Number of Missing Values for Body_Color1 Column')\n",
    "print('-------------------------------------------------------')\n",
    "print('Before: {} \\nAfter : {}\\n'.format((car['Nr_of_Seats1'].isnull().sum()), car['Nr_of_Seats2'].isnull().sum()))"
   ]
  },
  {
   "cell_type": "markdown",
   "metadata": {
    "jupyter": {
     "outputs_hidden": true
    }
   },
   "source": [
    "# Safety_point1"
   ]
  },
  {
   "cell_type": "code",
   "execution_count": 49,
   "metadata": {},
   "outputs": [
    {
     "data": {
      "text/plain": [
       "model1\n",
       "A1          12.0\n",
       "A2          15.0\n",
       "A3          12.0\n",
       "Astra       14.0\n",
       "Clio        11.0\n",
       "Corsa       12.0\n",
       "Duster       4.0\n",
       "Espace      13.0\n",
       "Insignia    15.0\n",
       "Name: Safety_point1, dtype: float64"
      ]
     },
     "execution_count": 49,
     "metadata": {},
     "output_type": "execute_result"
    }
   ],
   "source": [
    "# Checking average Safety_point1 values in model group\n",
    "car.groupby('model1')['Safety_point1'].mean().round(0)"
   ]
  },
  {
   "cell_type": "code",
   "execution_count": 52,
   "metadata": {},
   "outputs": [],
   "source": [
    "# Filling missing values with average value of model group \n",
    "car['Safety_point2'] = car['Safety_point1'].fillna(car.groupby('model1')['Safety_point1'].apply(lambda x: x.fillna(round(x.mean(), 0))))"
   ]
  },
  {
   "cell_type": "code",
   "execution_count": 53,
   "metadata": {},
   "outputs": [
    {
     "name": "stdout",
     "output_type": "stream",
     "text": [
      "Total Number of Missing Values for Safety_point1 Column\n",
      "-------------------------------------------------------\n",
      "Before: 982 \n",
      "After : 0\n",
      "\n"
     ]
    }
   ],
   "source": [
    "print('Total Number of Missing Values for Safety_point1 Column')\n",
    "print('-------------------------------------------------------')\n",
    "print('Before: {} \\nAfter : {}\\n'.format((car['Safety_point1'].isnull().sum()), car['Safety_point2'].isnull().sum()))"
   ]
  },
  {
   "cell_type": "markdown",
   "metadata": {},
   "source": [
    "## km1"
   ]
  },
  {
   "cell_type": "code",
   "execution_count": 54,
   "metadata": {},
   "outputs": [
    {
     "data": {
      "text/plain": [
       "<matplotlib.axes._subplots.AxesSubplot at 0x220350f6fd0>"
      ]
     },
     "execution_count": 54,
     "metadata": {},
     "output_type": "execute_result"
    },
    {
     "data": {
      "image/png": "[encoded data removed]",
      "text/plain": [
       "<Figure size 432x288 with 1 Axes>"
      ]
     },
     "metadata": {},
     "output_type": "display_data"
    }
   ],
   "source": [
    "# Plotting age1 to see values\n",
    "car['age1'].plot.box()"
   ]
  },
  {
   "cell_type": "code",
   "execution_count": 55,
   "metadata": {},
   "outputs": [
    {
     "data": {
      "text/plain": [
       "0        (3.0, 4.0]\n",
       "1        (2.0, 3.0]\n",
       "2        (3.0, 4.0]\n",
       "3        (3.0, 4.0]\n",
       "4        (3.0, 4.0]\n",
       "            ...    \n",
       "15914           NaN\n",
       "15915    (0.0, 1.0]\n",
       "15916    (0.0, 1.0]\n",
       "15917    (0.0, 1.0]\n",
       "15918    (0.0, 1.0]\n",
       "Name: age1_binned, Length: 15919, dtype: category\n",
       "Categories (4, interval[int64]): [(0, 1] < (1, 2] < (2, 3] < (3, 4]]"
      ]
     },
     "execution_count": 55,
     "metadata": {},
     "output_type": "execute_result"
    }
   ],
   "source": [
    "# Creating bins for age1\n",
    "bins= [0,1,2,3,4]\n",
    "car['age1_binned'] = pd.cut(car['age1'], bins)\n",
    "car['age1_binned']"
   ]
  },
  {
   "cell_type": "code",
   "execution_count": 56,
   "metadata": {},
   "outputs": [
    {
     "data": {
      "text/plain": [
       "age1_binned  model1  \n",
       "(0, 1]       A1           2479.0\n",
       "             A2              NaN\n",
       "             A3           2432.0\n",
       "             Astra        3000.0\n",
       "             Clio         1006.0\n",
       "             Corsa        1279.0\n",
       "             Duster        101.0\n",
       "             Espace       1795.0\n",
       "             Insignia     3488.0\n",
       "(1, 2]       A1          14292.0\n",
       "             A2          26166.0\n",
       "             A3          18698.0\n",
       "             Astra       21607.0\n",
       "             Clio        16275.0\n",
       "             Corsa       17986.0\n",
       "             Duster          NaN\n",
       "             Espace      15237.0\n",
       "             Insignia    22289.0\n",
       "(2, 3]       A1          27734.0\n",
       "             A2              NaN\n",
       "             A3          44823.0\n",
       "             Astra       51241.0\n",
       "             Clio        38426.0\n",
       "             Corsa       39819.0\n",
       "             Duster          NaN\n",
       "             Espace      43770.0\n",
       "             Insignia    49908.0\n",
       "(3, 4]       A1          54814.0\n",
       "             A2              NaN\n",
       "             A3          90558.0\n",
       "             Astra       89371.0\n",
       "             Clio        69334.0\n",
       "             Corsa       63917.0\n",
       "             Duster          NaN\n",
       "             Espace      75193.0\n",
       "             Insignia    93607.0\n",
       "Name: km1, dtype: float64"
      ]
     },
     "execution_count": 56,
     "metadata": {},
     "output_type": "execute_result"
    }
   ],
   "source": [
    "# Checking average km values in binned age and model group\n",
    "car.groupby(['age1_binned','model1'])['km1'].mean().round()"
   ]
  },
  {
   "cell_type": "code",
   "execution_count": 57,
   "metadata": {},
   "outputs": [
    {
     "data": {
      "text/plain": [
       "age1_binned  model1  \n",
       "(0, 1]       A1            512.0\n",
       "             A2              NaN\n",
       "             A3             44.0\n",
       "             Astra         984.0\n",
       "             Clio           10.0\n",
       "             Corsa          10.0\n",
       "             Duster        101.0\n",
       "             Espace         15.0\n",
       "             Insignia     1565.0\n",
       "(1, 2]       A1          12819.0\n",
       "             A2          26166.0\n",
       "             A3          18112.0\n",
       "             Astra       22000.0\n",
       "             Clio        14280.0\n",
       "             Corsa       17053.0\n",
       "             Duster          NaN\n",
       "             Espace      14856.0\n",
       "             Insignia    23900.0\n",
       "(2, 3]       A1          21500.0\n",
       "             A2              NaN\n",
       "             A3          37500.0\n",
       "             Astra       45070.0\n",
       "             Clio        33190.0\n",
       "             Corsa       39700.0\n",
       "             Duster          NaN\n",
       "             Espace      44000.0\n",
       "             Insignia    35000.0\n",
       "(3, 4]       A1          52291.0\n",
       "             A2              NaN\n",
       "             A3          88000.0\n",
       "             Astra       84950.0\n",
       "             Clio        65775.0\n",
       "             Corsa       56335.0\n",
       "             Duster          NaN\n",
       "             Espace      70928.0\n",
       "             Insignia    88508.0\n",
       "Name: km1, dtype: float64"
      ]
     },
     "execution_count": 57,
     "metadata": {},
     "output_type": "execute_result"
    }
   ],
   "source": [
    "# Checking median km values in binned age and model group\n",
    "car.groupby(['age1_binned','model1'])['km1'].median().round()"
   ]
  },
  {
   "cell_type": "code",
   "execution_count": 59,
   "metadata": {},
   "outputs": [],
   "source": [
    "# Filling missing values with average value of age1_binned and model group \n",
    "car['km2'] = car['km1'].fillna(car.groupby(['age1_binned','model1'])['km1'].apply(lambda x: x.fillna(round(x.median(), 0))))"
   ]
  },
  {
   "cell_type": "code",
   "execution_count": 60,
   "metadata": {},
   "outputs": [
    {
     "name": "stdout",
     "output_type": "stream",
     "text": [
      "Total Number of Missing Values for km1 Column\n",
      "-------------------------------------------------------\n",
      "Before: 1024 \n",
      "After : 838\n",
      "\n"
     ]
    }
   ],
   "source": [
    "print('Total Number of Missing Values for km1 Column')\n",
    "print('-------------------------------------------------------')\n",
    "print('Before: {} \\nAfter : {}\\n'.format((car['km1'].isnull().sum()), car['km2'].isnull().sum()))"
   ]
  },
  {
   "cell_type": "code",
   "execution_count": 61,
   "metadata": {},
   "outputs": [
    {
     "data": {
      "text/plain": [
       "Type1           model1    Fuel1   \n",
       "Demonstration   A1        Diesel      12870.0\n",
       "                          Gasoline     3500.0\n",
       "                A3        Diesel      16500.0\n",
       "                          Gasoline     5000.0\n",
       "                Astra     Diesel       4100.0\n",
       "                          Gasoline     2499.0\n",
       "                Clio      Diesel         15.0\n",
       "                          Gasoline      750.0\n",
       "                Corsa     Gasoline      150.0\n",
       "                Espace    Diesel       4490.0\n",
       "                          Gasoline     4899.0\n",
       "                Insignia  Diesel       3810.0\n",
       "                          Gasoline     3500.0\n",
       "Employee's car  A1        Diesel      19090.0\n",
       "                          Gasoline     6320.0\n",
       "                A2        Diesel      26166.0\n",
       "                A3        Diesel      20000.0\n",
       "                          Gasoline     5800.0\n",
       "                Astra     Diesel      28529.0\n",
       "                          Gasoline    22771.0\n",
       "                Clio      Diesel      28500.0\n",
       "                          Gasoline    22189.0\n",
       "                          LPG/CNG         NaN\n",
       "                Corsa     Gasoline    16638.0\n",
       "                          LPG/CNG     55700.0\n",
       "                Espace    Diesel      16500.0\n",
       "                          Gasoline    21123.0\n",
       "                Insignia  Diesel      24828.0\n",
       "                          Gasoline    25368.0\n",
       "New             A1        Diesel         10.0\n",
       "Name: km1, dtype: float64"
      ]
     },
     "execution_count": 61,
     "metadata": {},
     "output_type": "execute_result"
    }
   ],
   "source": [
    "# Checking average Comfort_point1 values in model group\n",
    "car.groupby(['Type1','model1','Fuel1'])['km1'].median().round().head(30)"
   ]
  },
  {
   "cell_type": "code",
   "execution_count": 62,
   "metadata": {},
   "outputs": [],
   "source": [
    "# Filling resting 838 missing values with average value of Type1, model1 and Fuel1  group \n",
    "car['km2'] = car['km2'].fillna(car.groupby(['Type1','model1','Fuel1'])['km2'].apply(lambda x: x.fillna(x.median())))"
   ]
  },
  {
   "cell_type": "code",
   "execution_count": 63,
   "metadata": {},
   "outputs": [
    {
     "name": "stdout",
     "output_type": "stream",
     "text": [
      "Total Number of Missing Values for km1 Column\n",
      "-------------------------------------------------------\n",
      "Before: 1024 \n",
      "After : 18\n",
      "\n"
     ]
    }
   ],
   "source": [
    "print('Total Number of Missing Values for km1 Column')\n",
    "print('-------------------------------------------------------')\n",
    "print('Before: {} \\nAfter : {}\\n'.format((car['km1'].isnull().sum()), car['km2'].isnull().sum()))"
   ]
  },
  {
   "cell_type": "code",
   "execution_count": 64,
   "metadata": {},
   "outputs": [],
   "source": [
    "# Filling resting 19 missing values with average value of Type1, Fuel1 group \n",
    "car['km2'] = car['km2'].fillna(car.groupby(['Type1','Fuel1'])['km2'].apply(lambda x: x.fillna(x.median())))"
   ]
  },
  {
   "cell_type": "code",
   "execution_count": 65,
   "metadata": {},
   "outputs": [
    {
     "name": "stdout",
     "output_type": "stream",
     "text": [
      "Total Number of Missing Values for km1 Column\n",
      "-------------------------------------------------------\n",
      "Before: 1024 \n",
      "After : 0\n",
      "\n"
     ]
    }
   ],
   "source": [
    "print('Total Number of Missing Values for km1 Column')\n",
    "print('-------------------------------------------------------')\n",
    "print('Before: {} \\nAfter : {}\\n'.format((car['km1'].isnull().sum()), car['km2'].isnull().sum()))"
   ]
  },
  {
   "cell_type": "code",
   "execution_count": 66,
   "metadata": {},
   "outputs": [],
   "source": [
    "# Filling resting 1 missing values with average value of model group \n",
    "car['km2'] = car['km2'].fillna(car.groupby(['model1'])['km2'].apply(lambda x: x.fillna(x.median())))"
   ]
  },
  {
   "cell_type": "code",
   "execution_count": 67,
   "metadata": {},
   "outputs": [
    {
     "name": "stdout",
     "output_type": "stream",
     "text": [
      "Total Number of Missing Values for km1 Column\n",
      "-------------------------------------------------------\n",
      "Before: 1024 \n",
      "After : 0\n",
      "\n"
     ]
    }
   ],
   "source": [
    "print('Total Number of Missing Values for km1 Column')\n",
    "print('-------------------------------------------------------')\n",
    "print('Before: {} \\nAfter : {}\\n'.format((car['km1'].isnull().sum()), car['km2'].isnull().sum()))"
   ]
  },
  {
   "cell_type": "markdown",
   "metadata": {},
   "source": [
    "## Entertainment_point1"
   ]
  },
  {
   "cell_type": "code",
   "execution_count": 68,
   "metadata": {},
   "outputs": [
    {
     "data": {
      "text/plain": [
       "model1\n",
       "A1          5.0\n",
       "A2          7.0\n",
       "A3          5.0\n",
       "Astra       5.0\n",
       "Clio        4.0\n",
       "Corsa       5.0\n",
       "Duster      4.0\n",
       "Espace      5.0\n",
       "Insignia    5.0\n",
       "Name: Entertainment_point1, dtype: float64"
      ]
     },
     "execution_count": 68,
     "metadata": {},
     "output_type": "execute_result"
    }
   ],
   "source": [
    "# Checking average Entertainment_point1 values in model group\n",
    "car.groupby('model1')['Entertainment_point1'].mean().round(0)"
   ]
  },
  {
   "cell_type": "code",
   "execution_count": 70,
   "metadata": {},
   "outputs": [],
   "source": [
    "# Filling missing values with average value of model group \n",
    "car['Entertainment_point2'] = car['Entertainment_point1'].fillna(car.groupby('model1')['Entertainment_point1'].apply(lambda x: x.fillna(round(x.mean(), 0))))"
   ]
  },
  {
   "cell_type": "code",
   "execution_count": 71,
   "metadata": {},
   "outputs": [
    {
     "name": "stdout",
     "output_type": "stream",
     "text": [
      "Total Number of Missing Values for Entertainment_point1 Column\n",
      "-------------------------------------------------------\n",
      "Before: 1374 \n",
      "After : 0\n",
      "\n"
     ]
    }
   ],
   "source": [
    "print('Total Number of Missing Values for Entertainment_point1 Column')\n",
    "print('-------------------------------------------------------')\n",
    "print('Before: {} \\nAfter : {}\\n'.format((car['Entertainment_point1'].isnull().sum()), car['Entertainment_point2'].isnull().sum()))"
   ]
  },
  {
   "cell_type": "markdown",
   "metadata": {},
   "source": [
    "## age1"
   ]
  },
  {
   "cell_type": "code",
   "execution_count": 72,
   "metadata": {},
   "outputs": [
    {
     "data": {
      "text/plain": [
       "<matplotlib.axes._subplots.AxesSubplot at 0x220350ddc10>"
      ]
     },
     "execution_count": 72,
     "metadata": {},
     "output_type": "execute_result"
    },
    {
     "data": {
      "image/png": "[encoded data removed]",
      "text/plain": [
       "<Figure size 432x288 with 1 Axes>"
      ]
     },
     "metadata": {},
     "output_type": "display_data"
    }
   ],
   "source": [
    "# Checking km values\n",
    "car['km2'].plot.box()"
   ]
  },
  {
   "cell_type": "code",
   "execution_count": 73,
   "metadata": {},
   "outputs": [],
   "source": [
    "car['age2']=car['age1'].fillna(car.groupby('Type1')['age1'].transform('mean'))"
   ]
  },
  {
   "cell_type": "code",
   "execution_count": 74,
   "metadata": {},
   "outputs": [
    {
     "name": "stdout",
     "output_type": "stream",
     "text": [
      "Total Number of Missing Values for Entertainment_point1 Column\n",
      "-------------------------------------------------------\n",
      "Before: 1597 \n",
      "After : 0\n",
      "\n"
     ]
    }
   ],
   "source": [
    "print('Total Number of Missing Values for Entertainment_point1 Column')\n",
    "print('-------------------------------------------------------')\n",
    "print('Before: {} \\nAfter : {}\\n'.format((car['age1'].isnull().sum()), car['age2'].isnull().sum()))"
   ]
  },
  {
   "cell_type": "markdown",
   "metadata": {},
   "source": [
    "*km2 has so many outliers, so using median will be better to fill age missing values*"
   ]
  },
  {
   "cell_type": "code",
   "execution_count": 75,
   "metadata": {},
   "outputs": [
    {
     "data": {
      "text/plain": [
       "0.0"
      ]
     },
     "execution_count": 75,
     "metadata": {},
     "output_type": "execute_result"
    }
   ],
   "source": [
    "car['km2'].min()"
   ]
  },
  {
   "cell_type": "code",
   "execution_count": 76,
   "metadata": {},
   "outputs": [
    {
     "data": {
      "text/plain": [
       "317000.0"
      ]
     },
     "execution_count": 76,
     "metadata": {},
     "output_type": "execute_result"
    }
   ],
   "source": [
    "car['km2'].max()"
   ]
  },
  {
   "cell_type": "code",
   "execution_count": 77,
   "metadata": {},
   "outputs": [
    {
     "data": {
      "text/plain": [
       "Type1          km2     \n",
       "Demonstration  3.0         0.75\n",
       "               4.0         0.58\n",
       "               5.0         0.63\n",
       "               6.0         0.67\n",
       "               7.0         0.83\n",
       "                           ... \n",
       "Used           240000.0    2.83\n",
       "               248000.0    3.92\n",
       "               260000.0    3.59\n",
       "               291800.0    3.92\n",
       "               317000.0    2.08\n",
       "Name: age1, Length: 7181, dtype: float64"
      ]
     },
     "execution_count": 77,
     "metadata": {},
     "output_type": "execute_result"
    }
   ],
   "source": [
    "car.groupby(['Type1','km2'])['age1'].mean().round(2)"
   ]
  },
  {
   "cell_type": "markdown",
   "metadata": {},
   "source": [
    "## Consump_country1"
   ]
  },
  {
   "cell_type": "code",
   "execution_count": 78,
   "metadata": {},
   "outputs": [],
   "source": [
    "# Filling missing values with average value of model group \n",
    "car['Consump_country2'] = car['Consump_country1'].fillna(((car['Consump_comb1'] *2) - car['Consump_city1'] ).round(1))"
   ]
  },
  {
   "cell_type": "code",
   "execution_count": 79,
   "metadata": {},
   "outputs": [
    {
     "name": "stdout",
     "output_type": "stream",
     "text": [
      "Total Number of Missing Values for Entertainment_point1 Column\n",
      "-------------------------------------------------------\n",
      "Before: 2376 \n",
      "After : 2365\n",
      "\n"
     ]
    }
   ],
   "source": [
    "print('Total Number of Missing Values for Entertainment_point1 Column')\n",
    "print('-------------------------------------------------------')\n",
    "print('Before: {} \\nAfter : {}\\n'.format((car['Consump_country1'].isnull().sum()), car['Consump_country2'].isnull().sum()))"
   ]
  },
  {
   "cell_type": "code",
   "execution_count": 80,
   "metadata": {},
   "outputs": [],
   "source": [
    "car['Consump_country2']=car['Consump_country2'].fillna(car.groupby('model1')['Consump_country2'].transform('mean').round(1))"
   ]
  },
  {
   "cell_type": "code",
   "execution_count": 81,
   "metadata": {},
   "outputs": [
    {
     "name": "stdout",
     "output_type": "stream",
     "text": [
      "Total Number of Missing Values for Entertainment_point1 Column\n",
      "-------------------------------------------------------\n",
      "Before: 2376 \n",
      "After : 0\n",
      "\n"
     ]
    }
   ],
   "source": [
    "print('Total Number of Missing Values for Entertainment_point1 Column')\n",
    "print('-------------------------------------------------------')\n",
    "print('Before: {} \\nAfter : {}\\n'.format((car['Consump_country1'].isnull().sum()), car['Consump_country2'].isnull().sum()))"
   ]
  },
  {
   "cell_type": "markdown",
   "metadata": {},
   "source": [
    "## Consump_city1"
   ]
  },
  {
   "cell_type": "code",
   "execution_count": 82,
   "metadata": {},
   "outputs": [],
   "source": [
    "# Filling missing values with average value of model group \n",
    "car['Consump_city2'] = car['Consump_city1'].fillna(((car['Consump_comb1'] *2) - car['Consump_country2']).round(1))"
   ]
  },
  {
   "cell_type": "code",
   "execution_count": 83,
   "metadata": {},
   "outputs": [
    {
     "name": "stdout",
     "output_type": "stream",
     "text": [
      "Total Number of Missing Values for Entertainment_point1 Column\n",
      "-------------------------------------------------------\n",
      "Before: 2376 \n",
      "After : 0\n",
      "\n"
     ]
    }
   ],
   "source": [
    "print('Total Number of Missing Values for Entertainment_point1 Column')\n",
    "print('-------------------------------------------------------')\n",
    "print('Before: {} \\nAfter : {}\\n'.format((car['Consump_country1'].isnull().sum()), car['Consump_country2'].isnull().sum()))"
   ]
  },
  {
   "cell_type": "code",
   "execution_count": 84,
   "metadata": {},
   "outputs": [],
   "source": [
    "car['Consump_city2']=car['Consump_city2'].fillna(car.groupby('model1')['Consump_city2'].transform('mean').round(1))"
   ]
  },
  {
   "cell_type": "code",
   "execution_count": 85,
   "metadata": {},
   "outputs": [
    {
     "name": "stdout",
     "output_type": "stream",
     "text": [
      "Total Number of Missing Values for Entertainment_point1 Column\n",
      "-------------------------------------------------------\n",
      "Before: 2376 \n",
      "After : 0\n",
      "\n"
     ]
    }
   ],
   "source": [
    "print('Total Number of Missing Values for Entertainment_point1 Column')\n",
    "print('-------------------------------------------------------')\n",
    "print('Before: {} \\nAfter : {}\\n'.format((car['Consump_country1'].isnull().sum()), car['Consump_country2'].isnull().sum()))"
   ]
  },
  {
   "cell_type": "markdown",
   "metadata": {},
   "source": [
    "## Consump_comb1"
   ]
  },
  {
   "cell_type": "code",
   "execution_count": 86,
   "metadata": {},
   "outputs": [],
   "source": [
    "# Filling missing values with average value of model group \n",
    "car['Consump_comb2'] = car['Consump_comb1'].fillna(((car['Consump_city2'] + car['Consump_country2'])/2).round(1))"
   ]
  },
  {
   "cell_type": "code",
   "execution_count": 87,
   "metadata": {},
   "outputs": [
    {
     "name": "stdout",
     "output_type": "stream",
     "text": [
      "Total Number of Missing Values for Entertainment_point1 Column\n",
      "-------------------------------------------------------\n",
      "Before: 2033 \n",
      "After : 0\n",
      "\n"
     ]
    }
   ],
   "source": [
    "print('Total Number of Missing Values for Entertainment_point1 Column')\n",
    "print('-------------------------------------------------------')\n",
    "print('Before: {} \\nAfter : {}\\n'.format((car['Consump_comb1'].isnull().sum()), car['Consump_comb2'].isnull().sum()))"
   ]
  },
  {
   "cell_type": "markdown",
   "metadata": {},
   "source": [
    "## CO2_Emission1"
   ]
  },
  {
   "cell_type": "code",
   "execution_count": 88,
   "metadata": {},
   "outputs": [],
   "source": [
    "car['CO2_Emission2'] =car['CO2_Emission1'].fillna(car.groupby('Cylinders1')['CO2_Emission1'].transform('mean').round())"
   ]
  },
  {
   "cell_type": "code",
   "execution_count": 89,
   "metadata": {},
   "outputs": [
    {
     "name": "stdout",
     "output_type": "stream",
     "text": [
      "Total Number of Missing Values for Entertainment_point1 Column\n",
      "-------------------------------------------------------\n",
      "Before: 2436 \n",
      "After : 1498\n",
      "\n"
     ]
    }
   ],
   "source": [
    "print('Total Number of Missing Values for Entertainment_point1 Column')\n",
    "print('-------------------------------------------------------')\n",
    "print('Before: {} \\nAfter : {}\\n'.format((car['CO2_Emission1'].isnull().sum()), car['CO2_Emission2'].isnull().sum()))"
   ]
  },
  {
   "cell_type": "code",
   "execution_count": 90,
   "metadata": {},
   "outputs": [],
   "source": [
    "car['CO2_Emission2'] =car['CO2_Emission2'].fillna(car.groupby('model1')['CO2_Emission2'].transform('mean').round())"
   ]
  },
  {
   "cell_type": "code",
   "execution_count": 91,
   "metadata": {},
   "outputs": [
    {
     "name": "stdout",
     "output_type": "stream",
     "text": [
      "Total Number of Missing Values for Entertainment_point1 Column\n",
      "-------------------------------------------------------\n",
      "Before: 2436 \n",
      "After : 1\n",
      "\n"
     ]
    }
   ],
   "source": [
    "print('Total Number of Missing Values for Entertainment_point1 Column')\n",
    "print('-------------------------------------------------------')\n",
    "print('Before: {} \\nAfter : {}\\n'.format((car['CO2_Emission1'].isnull().sum()), car['CO2_Emission2'].isnull().sum()))"
   ]
  },
  {
   "cell_type": "code",
   "execution_count": 92,
   "metadata": {},
   "outputs": [],
   "source": [
    "car['CO2_Emission2'] = car['CO2_Emission2'].fillna(car.groupby('make1')['CO2_Emission2'].transform('mean').round())"
   ]
  },
  {
   "cell_type": "code",
   "execution_count": 93,
   "metadata": {},
   "outputs": [
    {
     "name": "stdout",
     "output_type": "stream",
     "text": [
      "Total Number of Missing Values for Entertainment_point1 Column\n",
      "-------------------------------------------------------\n",
      "Before: 2436 \n",
      "After : 0\n",
      "\n"
     ]
    }
   ],
   "source": [
    "print('Total Number of Missing Values for Entertainment_point1 Column')\n",
    "print('-------------------------------------------------------')\n",
    "print('Before: {} \\nAfter : {}\\n'.format((car['CO2_Emission1'].isnull().sum()), car['CO2_Emission2'].isnull().sum()))"
   ]
  },
  {
   "cell_type": "markdown",
   "metadata": {},
   "source": [
    "## Extras_point1"
   ]
  },
  {
   "cell_type": "code",
   "execution_count": 94,
   "metadata": {},
   "outputs": [
    {
     "data": {
      "text/plain": [
       "model1\n",
       "A1          3.0\n",
       "A2          1.0\n",
       "A3          2.0\n",
       "Astra       3.0\n",
       "Clio        2.0\n",
       "Corsa       2.0\n",
       "Duster      1.0\n",
       "Espace      2.0\n",
       "Insignia    3.0\n",
       "Name: Extras_point1, dtype: float64"
      ]
     },
     "execution_count": 94,
     "metadata": {},
     "output_type": "execute_result"
    }
   ],
   "source": [
    "# Checking average Extras_point1 values in model group\n",
    "car.groupby('model1')['Extras_point1'].mean().round(0)"
   ]
  },
  {
   "cell_type": "code",
   "execution_count": 97,
   "metadata": {},
   "outputs": [],
   "source": [
    "# Filling missing values with average value of model group \n",
    "car['Extras_point2'] = car['Extras_point1'].fillna(car.groupby('model1')['Extras_point1'].apply(lambda x: x.fillna(round(x.mean(), 0))))"
   ]
  },
  {
   "cell_type": "code",
   "execution_count": 98,
   "metadata": {},
   "outputs": [
    {
     "name": "stdout",
     "output_type": "stream",
     "text": [
      "Total Number of Missing Values for Extras_point1 Column\n",
      "-------------------------------------------------------\n",
      "Before: 2962 \n",
      "After : 0\n",
      "\n"
     ]
    }
   ],
   "source": [
    "print('Total Number of Missing Values for Extras_point1 Column')\n",
    "print('-------------------------------------------------------')\n",
    "print('Before: {} \\nAfter : {}\\n'.format((car['Extras_point1'].isnull().sum()), car['Extras_point2'].isnull().sum()))"
   ]
  },
  {
   "cell_type": "markdown",
   "metadata": {},
   "source": [
    "## Upholstery1"
   ]
  },
  {
   "cell_type": "code",
   "execution_count": 99,
   "metadata": {},
   "outputs": [],
   "source": [
    "car['Upholstery2'] = car['Upholstery1'].fillna(car.groupby('model1')['Upholstery1'].apply(lambda x: x.fillna(x.mode().iloc[0])))"
   ]
  },
  {
   "cell_type": "code",
   "execution_count": 100,
   "metadata": {},
   "outputs": [
    {
     "name": "stdout",
     "output_type": "stream",
     "text": [
      "Total Number of Missing Values for Extras_point1 Column\n",
      "-------------------------------------------------------\n",
      "Before: 3722 \n",
      "After : 0\n",
      "\n"
     ]
    }
   ],
   "source": [
    "print('Total Number of Missing Values for Extras_point1 Column')\n",
    "print('-------------------------------------------------------')\n",
    "print('Before: {} \\nAfter : {}\\n'.format((car['Upholstery1'].isnull().sum()), car['Upholstery2'].isnull().sum()))"
   ]
  },
  {
   "cell_type": "markdown",
   "metadata": {},
   "source": [
    "## vat"
   ]
  },
  {
   "cell_type": "code",
   "execution_count": 101,
   "metadata": {},
   "outputs": [
    {
     "data": {
      "text/plain": [
       "Type1           vat             \n",
       "Demonstration   VAT deductible       692\n",
       "Employee's car  VAT deductible       899\n",
       "                Price negotiable       2\n",
       "New             VAT deductible      1395\n",
       "Pre-registered  VAT deductible      1207\n",
       "                Price negotiable       3\n",
       "Used            VAT deductible      6787\n",
       "                Price negotiable     421\n",
       "Name: vat, dtype: int64"
      ]
     },
     "execution_count": 101,
     "metadata": {},
     "output_type": "execute_result"
    }
   ],
   "source": [
    "# Checking most frequent values in Type1 group\n",
    "car.groupby('Type1')['vat'].value_counts()"
   ]
  },
  {
   "cell_type": "code",
   "execution_count": 102,
   "metadata": {},
   "outputs": [],
   "source": [
    "# Filling missing values with most frequent value of Type1 group \n",
    "car['vat2'] = car['vat'].fillna(car.groupby('Type1')['vat'].apply(lambda x: x.fillna(x.mode().iloc[0])))"
   ]
  },
  {
   "cell_type": "code",
   "execution_count": 103,
   "metadata": {},
   "outputs": [],
   "source": [
    "# Filling last 2 missing values with most frequent value\n",
    "car['vat2'].fillna('VAT deductible', inplace=True)"
   ]
  },
  {
   "cell_type": "code",
   "execution_count": 104,
   "metadata": {},
   "outputs": [
    {
     "name": "stdout",
     "output_type": "stream",
     "text": [
      "Total Number of Missing Values for vat Column\n",
      "-------------------------------------------------------\n",
      "Before: 4513 \n",
      "After : 0\n",
      "\n"
     ]
    }
   ],
   "source": [
    "print('Total Number of Missing Values for vat Column')\n",
    "print('-------------------------------------------------------')\n",
    "print('Before: {} \\nAfter : {}\\n'.format((car['vat'].isnull().sum()), car['vat2'].isnull().sum()))"
   ]
  },
  {
   "cell_type": "markdown",
   "metadata": {},
   "source": [
    "## Gears1"
   ]
  },
  {
   "cell_type": "code",
   "execution_count": 105,
   "metadata": {},
   "outputs": [],
   "source": [
    "car['Gears2']=car['Gears1'].fillna(car.groupby('model1')['Gears1'].transform('mean').round())\n",
    "car['Gears2'][2614]=6.0  #set 6 for A2\n"
   ]
  },
  {
   "cell_type": "code",
   "execution_count": 106,
   "metadata": {},
   "outputs": [
    {
     "name": "stdout",
     "output_type": "stream",
     "text": [
      "Total Number of Missing Values for vat Column\n",
      "-------------------------------------------------------\n",
      "Before: 4712 \n",
      "After : 0\n",
      "\n"
     ]
    }
   ],
   "source": [
    "print('Total Number of Missing Values for vat Column')\n",
    "print('-------------------------------------------------------')\n",
    "print('Before: {} \\nAfter : {}\\n'.format((car['Gears1'].isnull().sum()), car['Gears2'].isnull().sum()))"
   ]
  },
  {
   "cell_type": "markdown",
   "metadata": {},
   "source": [
    "## Cylinders"
   ]
  },
  {
   "cell_type": "code",
   "execution_count": 107,
   "metadata": {},
   "outputs": [
    {
     "data": {
      "text/plain": [
       "model1    Cylinders1\n",
       "A1        3.0           1358\n",
       "          4.0            396\n",
       "          8.0              1\n",
       "A3        4.0           1900\n",
       "          3.0            373\n",
       "          5.0             21\n",
       "Astra     4.0           1244\n",
       "          3.0            176\n",
       "Clio      4.0            872\n",
       "          3.0            188\n",
       "          5.0              1\n",
       "Corsa     4.0           1391\n",
       "          3.0              9\n",
       "          1.0              1\n",
       "Duster    4.0             33\n",
       "Espace    4.0            640\n",
       "          2.0              1\n",
       "          8.0              1\n",
       "Insignia  4.0           1629\n",
       "          6.0              3\n",
       "          2.0              1\n",
       "Name: Cylinders1, dtype: int64"
      ]
     },
     "execution_count": 107,
     "metadata": {},
     "output_type": "execute_result"
    }
   ],
   "source": [
    "car.groupby('model1')['Cylinders1'].value_counts()"
   ]
  },
  {
   "cell_type": "code",
   "execution_count": 108,
   "metadata": {},
   "outputs": [],
   "source": [
    "car['Cylinders2'] = car['Cylinders1'].fillna(car.groupby('model1')['Cylinders1'].apply(lambda x: x.fillna(x.median())))\n",
    "car['Cylinders2'][2614]=4.0         #For A2"
   ]
  },
  {
   "cell_type": "code",
   "execution_count": 109,
   "metadata": {},
   "outputs": [
    {
     "name": "stdout",
     "output_type": "stream",
     "text": [
      "Total Number of Missing Values for vat Column\n",
      "-------------------------------------------------------\n",
      "Before: 4712 \n",
      "After : 0\n",
      "\n"
     ]
    }
   ],
   "source": [
    "print('Total Number of Missing Values for vat Column')\n",
    "print('-------------------------------------------------------')\n",
    "print('Before: {} \\nAfter : {}\\n'.format((car['Gears1'].isnull().sum()), car['Gears2'].isnull().sum()))"
   ]
  },
  {
   "cell_type": "markdown",
   "metadata": {
    "jupyter": {
     "outputs_hidden": true
    }
   },
   "source": [
    "## Drive_chain1"
   ]
  },
  {
   "cell_type": "code",
   "execution_count": 110,
   "metadata": {},
   "outputs": [],
   "source": [
    "car['Drive_chain2'] = car['Drive_chain1'].fillna(car.groupby('model1')['Drive_chain1'].apply(lambda x: x.fillna(x.mode().iloc[0])))"
   ]
  },
  {
   "cell_type": "code",
   "execution_count": 111,
   "metadata": {},
   "outputs": [
    {
     "name": "stdout",
     "output_type": "stream",
     "text": [
      "Total Number of Missing Values for vat Column\n",
      "-------------------------------------------------------\n",
      "Before: 6858 \n",
      "After : 0\n",
      "\n"
     ]
    }
   ],
   "source": [
    "print('Total Number of Missing Values for vat Column')\n",
    "print('-------------------------------------------------------')\n",
    "print('Before: {} \\nAfter : {}\\n'.format((car['Drive_chain1'].isnull().sum()), car['Drive_chain2'].isnull().sum()))"
   ]
  },
  {
   "cell_type": "markdown",
   "metadata": {},
   "source": [
    "## Weight1"
   ]
  },
  {
   "cell_type": "code",
   "execution_count": 112,
   "metadata": {},
   "outputs": [],
   "source": [
    "car['Weight2']=car['Weight1'].fillna(car.groupby('model1')['Weight1'].transform('mean').round())\n",
    "# Average weight of Duster is 1373 kg. Set the weight of Dusters [14894:14928] to 1373\n",
    "car['Weight2'][14894:14928]=1373\n",
    "# Average weight of A2 is 963 kg. Set the weight of A2 [2614:2615] to 963\n",
    "car['Weight2'][2614:2615]=963\n"
   ]
  },
  {
   "cell_type": "code",
   "execution_count": 113,
   "metadata": {},
   "outputs": [
    {
     "name": "stdout",
     "output_type": "stream",
     "text": [
      "Total Number of Missing Values for vat Column\n",
      "-------------------------------------------------------\n",
      "Before: 6974 \n",
      "After : 0\n",
      "\n"
     ]
    }
   ],
   "source": [
    "print('Total Number of Missing Values for vat Column')\n",
    "print('-------------------------------------------------------')\n",
    "print('Before: {} \\nAfter : {}\\n'.format((car['Weight1'].isnull().sum()), car['Weight2'].isnull().sum()))"
   ]
  },
  {
   "cell_type": "markdown",
   "metadata": {},
   "source": [
    "## Dropping Columns After Filling Missing Values"
   ]
  },
  {
   "cell_type": "code",
   "execution_count": 114,
   "metadata": {},
   "outputs": [],
   "source": [
    "drop_after_misfill=['body_type', 'vat',\n",
    "       'short_description1_displ', 'km1', 'age1', 'hp1', 'Type1',\n",
    "       'Body_Color1', 'Upholstery1', 'Nr_of_Doors1', 'Nr_of_Seats1',\n",
    "       'Displacement1', 'Cylinders1', 'Weight1',\n",
    "       'Drive_chain1', 'Consump_comb1', 'Consump_city1',\n",
    "       'Consump_country1', 'CO2_Emission1', 'Comfort_point1',\n",
    "       'Entertainment_point1', 'Extras_point1', 'Safety_point1', 'Gears1']"
   ]
  },
  {
   "cell_type": "code",
   "execution_count": 115,
   "metadata": {},
   "outputs": [
    {
     "name": "stdout",
     "output_type": "stream",
     "text": [
      "Shape of car DataFrame BEFORE filling operations: (15919, 53)\n",
      "Shape of car DataFrame AFTER filling operations : (15919, 29)\n"
     ]
    }
   ],
   "source": [
    "# Dropping columns after filling operations\n",
    "print('Shape of car DataFrame BEFORE filling operations:', car.shape)\n",
    "car.drop(drop_after_misfill, axis=1, inplace=True)\n",
    "print('Shape of car DataFrame AFTER filling operations :', car.shape)"
   ]
  },
  {
   "cell_type": "code",
   "execution_count": 116,
   "metadata": {},
   "outputs": [
    {
     "data": {
      "text/plain": [
       "Index(['price', 'make1', 'model1', 'Gearing_Type1', 'Fuel1', 'Type2', 'body_type2', 'hp2', 'Nr_of_Doors2', 'Displacement2', 'Body_Color2', 'Comfort_point2', 'Nr_of_Seats2', 'Safety_point2', 'age1_binned', 'km2', 'Entertainment_point2', 'age2', 'Consump_country2', 'Consump_city2', 'Consump_comb2', 'CO2_Emission2', 'Extras_point2', 'Upholstery2', 'vat2', 'Gears2', 'Cylinders2', 'Drive_chain2', 'Weight2'], dtype='object')"
      ]
     },
     "execution_count": 116,
     "metadata": {},
     "output_type": "execute_result"
    }
   ],
   "source": [
    "car.columns"
   ]
  },
  {
   "cell_type": "code",
   "execution_count": 117,
   "metadata": {},
   "outputs": [
    {
     "data": {
      "text/html": [
       "<div>\n",
       "<style scoped>\n",
       "    .dataframe tbody tr th:only-of-type {\n",
       "        vertical-align: middle;\n",
       "    }\n",
       "\n",
       "    .dataframe tbody tr th {\n",
       "        vertical-align: top;\n",
       "    }\n",
       "\n",
       "    .dataframe thead th {\n",
       "        text-align: right;\n",
       "    }\n",
       "</style>\n",
       "<table border=\"1\" class=\"dataframe\">\n",
       "  <thead>\n",
       "    <tr style=\"text-align: right;\">\n",
       "      <th></th>\n",
       "      <th>price</th>\n",
       "      <th>make1</th>\n",
       "      <th>model1</th>\n",
       "      <th>Gearing_Type1</th>\n",
       "      <th>Fuel1</th>\n",
       "      <th>Type2</th>\n",
       "      <th>body_type2</th>\n",
       "      <th>hp2</th>\n",
       "      <th>Nr_of_Doors2</th>\n",
       "      <th>Displacement2</th>\n",
       "      <th>Body_Color2</th>\n",
       "      <th>Comfort_point2</th>\n",
       "      <th>Nr_of_Seats2</th>\n",
       "      <th>Safety_point2</th>\n",
       "      <th>age1_binned</th>\n",
       "      <th>km2</th>\n",
       "      <th>Entertainment_point2</th>\n",
       "      <th>age2</th>\n",
       "      <th>Consump_country2</th>\n",
       "      <th>Consump_city2</th>\n",
       "      <th>Consump_comb2</th>\n",
       "      <th>CO2_Emission2</th>\n",
       "      <th>Extras_point2</th>\n",
       "      <th>Upholstery2</th>\n",
       "      <th>vat2</th>\n",
       "      <th>Gears2</th>\n",
       "      <th>Cylinders2</th>\n",
       "      <th>Drive_chain2</th>\n",
       "      <th>Weight2</th>\n",
       "    </tr>\n",
       "  </thead>\n",
       "  <tbody>\n",
       "    <tr>\n",
       "      <th>0</th>\n",
       "      <td>15770</td>\n",
       "      <td>Audi</td>\n",
       "      <td>A1</td>\n",
       "      <td>Automatic</td>\n",
       "      <td>Diesel</td>\n",
       "      <td>Used</td>\n",
       "      <td>Sedans</td>\n",
       "      <td>66.0</td>\n",
       "      <td>5.0</td>\n",
       "      <td>1.4</td>\n",
       "      <td>Black</td>\n",
       "      <td>16.0</td>\n",
       "      <td>5.0</td>\n",
       "      <td>14.0</td>\n",
       "      <td>(3, 4]</td>\n",
       "      <td>56013.0</td>\n",
       "      <td>4.0</td>\n",
       "      <td>3.917808</td>\n",
       "      <td>3.8</td>\n",
       "      <td>3.8</td>\n",
       "      <td>3.8</td>\n",
       "      <td>99.0</td>\n",
       "      <td>3.0</td>\n",
       "      <td>Cloth</td>\n",
       "      <td>VAT deductible</td>\n",
       "      <td>6.0</td>\n",
       "      <td>3.0</td>\n",
       "      <td>front</td>\n",
       "      <td>1220.0</td>\n",
       "    </tr>\n",
       "    <tr>\n",
       "      <th>1</th>\n",
       "      <td>14500</td>\n",
       "      <td>Audi</td>\n",
       "      <td>A1</td>\n",
       "      <td>Automatic</td>\n",
       "      <td>Gasoline</td>\n",
       "      <td>Used</td>\n",
       "      <td>Sedans</td>\n",
       "      <td>141.0</td>\n",
       "      <td>3.0</td>\n",
       "      <td>1.8</td>\n",
       "      <td>Red</td>\n",
       "      <td>9.0</td>\n",
       "      <td>4.0</td>\n",
       "      <td>15.0</td>\n",
       "      <td>(2, 3]</td>\n",
       "      <td>80000.0</td>\n",
       "      <td>5.0</td>\n",
       "      <td>2.753425</td>\n",
       "      <td>5.6</td>\n",
       "      <td>5.6</td>\n",
       "      <td>5.6</td>\n",
       "      <td>129.0</td>\n",
       "      <td>4.0</td>\n",
       "      <td>Cloth</td>\n",
       "      <td>Price negotiable</td>\n",
       "      <td>7.0</td>\n",
       "      <td>4.0</td>\n",
       "      <td>front</td>\n",
       "      <td>1255.0</td>\n",
       "    </tr>\n",
       "    <tr>\n",
       "      <th>2</th>\n",
       "      <td>14640</td>\n",
       "      <td>Audi</td>\n",
       "      <td>A1</td>\n",
       "      <td>Automatic</td>\n",
       "      <td>Diesel</td>\n",
       "      <td>Used</td>\n",
       "      <td>Sedans</td>\n",
       "      <td>85.0</td>\n",
       "      <td>4.0</td>\n",
       "      <td>1.6</td>\n",
       "      <td>Black</td>\n",
       "      <td>13.0</td>\n",
       "      <td>4.0</td>\n",
       "      <td>12.0</td>\n",
       "      <td>(3, 4]</td>\n",
       "      <td>83450.0</td>\n",
       "      <td>2.0</td>\n",
       "      <td>3.832877</td>\n",
       "      <td>3.8</td>\n",
       "      <td>3.8</td>\n",
       "      <td>3.8</td>\n",
       "      <td>99.0</td>\n",
       "      <td>2.0</td>\n",
       "      <td>Cloth</td>\n",
       "      <td>VAT deductible</td>\n",
       "      <td>6.0</td>\n",
       "      <td>3.0</td>\n",
       "      <td>front</td>\n",
       "      <td>1229.0</td>\n",
       "    </tr>\n",
       "    <tr>\n",
       "      <th>3</th>\n",
       "      <td>14500</td>\n",
       "      <td>Audi</td>\n",
       "      <td>A1</td>\n",
       "      <td>Automatic</td>\n",
       "      <td>Diesel</td>\n",
       "      <td>Used</td>\n",
       "      <td>Sedans</td>\n",
       "      <td>66.0</td>\n",
       "      <td>3.0</td>\n",
       "      <td>1.4</td>\n",
       "      <td>Brown</td>\n",
       "      <td>16.0</td>\n",
       "      <td>4.0</td>\n",
       "      <td>14.0</td>\n",
       "      <td>(3, 4]</td>\n",
       "      <td>73000.0</td>\n",
       "      <td>8.0</td>\n",
       "      <td>3.334247</td>\n",
       "      <td>3.8</td>\n",
       "      <td>3.8</td>\n",
       "      <td>3.8</td>\n",
       "      <td>99.0</td>\n",
       "      <td>3.0</td>\n",
       "      <td>Cloth</td>\n",
       "      <td>VAT deductible</td>\n",
       "      <td>6.0</td>\n",
       "      <td>3.0</td>\n",
       "      <td>front</td>\n",
       "      <td>1195.0</td>\n",
       "    </tr>\n",
       "    <tr>\n",
       "      <th>4</th>\n",
       "      <td>16790</td>\n",
       "      <td>Audi</td>\n",
       "      <td>A1</td>\n",
       "      <td>Automatic</td>\n",
       "      <td>Diesel</td>\n",
       "      <td>Used</td>\n",
       "      <td>Sedans</td>\n",
       "      <td>66.0</td>\n",
       "      <td>5.0</td>\n",
       "      <td>1.4</td>\n",
       "      <td>Black</td>\n",
       "      <td>13.0</td>\n",
       "      <td>5.0</td>\n",
       "      <td>13.0</td>\n",
       "      <td>(3, 4]</td>\n",
       "      <td>16200.0</td>\n",
       "      <td>7.0</td>\n",
       "      <td>3.586301</td>\n",
       "      <td>4.1</td>\n",
       "      <td>4.1</td>\n",
       "      <td>4.1</td>\n",
       "      <td>109.0</td>\n",
       "      <td>4.0</td>\n",
       "      <td>Cloth</td>\n",
       "      <td>VAT deductible</td>\n",
       "      <td>6.0</td>\n",
       "      <td>3.0</td>\n",
       "      <td>front</td>\n",
       "      <td>1229.0</td>\n",
       "    </tr>\n",
       "  </tbody>\n",
       "</table>\n",
       "</div>"
      ],
      "text/plain": [
       "   price make1 model1 Gearing_Type1     Fuel1 Type2 body_type2    hp2  Nr_of_Doors2  Displacement2 Body_Color2  Comfort_point2  Nr_of_Seats2  Safety_point2 age1_binned      km2  Entertainment_point2      age2  Consump_country2  Consump_city2  Consump_comb2  CO2_Emission2  Extras_point2 Upholstery2              vat2  Gears2  Cylinders2 Drive_chain2  Weight2\n",
       "0  15770  Audi     A1     Automatic    Diesel  Used     Sedans   66.0           5.0            1.4       Black            16.0           5.0           14.0      (3, 4]  56013.0                   4.0  3.917808               3.8            3.8            3.8           99.0            3.0       Cloth    VAT deductible     6.0         3.0        front   1220.0\n",
       "1  14500  Audi     A1     Automatic  Gasoline  Used     Sedans  141.0           3.0            1.8         Red             9.0           4.0           15.0      (2, 3]  80000.0                   5.0  2.753425               5.6            5.6            5.6          129.0            4.0       Cloth  Price negotiable     7.0         4.0        front   1255.0\n",
       "2  14640  Audi     A1     Automatic    Diesel  Used     Sedans   85.0           4.0            1.6       Black            13.0           4.0           12.0      (3, 4]  83450.0                   2.0  3.832877               3.8            3.8            3.8           99.0            2.0       Cloth    VAT deductible     6.0         3.0        front   1229.0\n",
       "3  14500  Audi     A1     Automatic    Diesel  Used     Sedans   66.0           3.0            1.4       Brown            16.0           4.0           14.0      (3, 4]  73000.0                   8.0  3.334247               3.8            3.8            3.8           99.0            3.0       Cloth    VAT deductible     6.0         3.0        front   1195.0\n",
       "4  16790  Audi     A1     Automatic    Diesel  Used     Sedans   66.0           5.0            1.4       Black            13.0           5.0           13.0      (3, 4]  16200.0                   7.0  3.586301               4.1            4.1            4.1          109.0            4.0       Cloth    VAT deductible     6.0         3.0        front   1229.0"
      ]
     },
     "execution_count": 117,
     "metadata": {},
     "output_type": "execute_result"
    }
   ],
   "source": [
    "# Checking data frame\n",
    "car.head()"
   ]
  },
  {
   "cell_type": "markdown",
   "metadata": {},
   "source": [
    "# Handling with Outliers"
   ]
  },
  {
   "cell_type": "code",
   "execution_count": 118,
   "metadata": {},
   "outputs": [
    {
     "data": {
      "text/html": [
       "<div>\n",
       "<style scoped>\n",
       "    .dataframe tbody tr th:only-of-type {\n",
       "        vertical-align: middle;\n",
       "    }\n",
       "\n",
       "    .dataframe tbody tr th {\n",
       "        vertical-align: top;\n",
       "    }\n",
       "\n",
       "    .dataframe thead th {\n",
       "        text-align: right;\n",
       "    }\n",
       "</style>\n",
       "<table border=\"1\" class=\"dataframe\">\n",
       "  <thead>\n",
       "    <tr style=\"text-align: right;\">\n",
       "      <th></th>\n",
       "      <th>count</th>\n",
       "      <th>mean</th>\n",
       "      <th>std</th>\n",
       "      <th>min</th>\n",
       "      <th>25%</th>\n",
       "      <th>50%</th>\n",
       "      <th>75%</th>\n",
       "      <th>max</th>\n",
       "    </tr>\n",
       "  </thead>\n",
       "  <tbody>\n",
       "    <tr>\n",
       "      <th>price</th>\n",
       "      <td>15919.0</td>\n",
       "      <td>18019.896727</td>\n",
       "      <td>7386.169409</td>\n",
       "      <td>13.0</td>\n",
       "      <td>12850.000000</td>\n",
       "      <td>16900.000000</td>\n",
       "      <td>21900.000000</td>\n",
       "      <td>74600.000000</td>\n",
       "    </tr>\n",
       "    <tr>\n",
       "      <th>hp2</th>\n",
       "      <td>15919.0</td>\n",
       "      <td>88.389660</td>\n",
       "      <td>26.849550</td>\n",
       "      <td>1.0</td>\n",
       "      <td>66.000000</td>\n",
       "      <td>85.000000</td>\n",
       "      <td>101.000000</td>\n",
       "      <td>294.000000</td>\n",
       "    </tr>\n",
       "    <tr>\n",
       "      <th>Nr_of_Doors2</th>\n",
       "      <td>15919.0</td>\n",
       "      <td>4.660657</td>\n",
       "      <td>0.642198</td>\n",
       "      <td>1.0</td>\n",
       "      <td>4.000000</td>\n",
       "      <td>5.000000</td>\n",
       "      <td>5.000000</td>\n",
       "      <td>7.000000</td>\n",
       "    </tr>\n",
       "    <tr>\n",
       "      <th>Displacement2</th>\n",
       "      <td>15919.0</td>\n",
       "      <td>1.428978</td>\n",
       "      <td>0.343418</td>\n",
       "      <td>0.0</td>\n",
       "      <td>1.200000</td>\n",
       "      <td>1.500000</td>\n",
       "      <td>1.600000</td>\n",
       "      <td>16.000000</td>\n",
       "    </tr>\n",
       "    <tr>\n",
       "      <th>Comfort_point2</th>\n",
       "      <td>15919.0</td>\n",
       "      <td>12.300521</td>\n",
       "      <td>5.835628</td>\n",
       "      <td>1.0</td>\n",
       "      <td>8.000000</td>\n",
       "      <td>13.000000</td>\n",
       "      <td>16.000000</td>\n",
       "      <td>33.000000</td>\n",
       "    </tr>\n",
       "    <tr>\n",
       "      <th>Nr_of_Seats2</th>\n",
       "      <td>15919.0</td>\n",
       "      <td>4.952949</td>\n",
       "      <td>0.474753</td>\n",
       "      <td>2.0</td>\n",
       "      <td>5.000000</td>\n",
       "      <td>5.000000</td>\n",
       "      <td>5.000000</td>\n",
       "      <td>7.000000</td>\n",
       "    </tr>\n",
       "    <tr>\n",
       "      <th>Safety_point2</th>\n",
       "      <td>15919.0</td>\n",
       "      <td>12.804448</td>\n",
       "      <td>3.957624</td>\n",
       "      <td>1.0</td>\n",
       "      <td>11.000000</td>\n",
       "      <td>13.000000</td>\n",
       "      <td>15.000000</td>\n",
       "      <td>29.000000</td>\n",
       "    </tr>\n",
       "    <tr>\n",
       "      <th>km2</th>\n",
       "      <td>15919.0</td>\n",
       "      <td>31976.275363</td>\n",
       "      <td>37063.400396</td>\n",
       "      <td>0.0</td>\n",
       "      <td>1900.000000</td>\n",
       "      <td>20446.000000</td>\n",
       "      <td>46900.000000</td>\n",
       "      <td>317000.000000</td>\n",
       "    </tr>\n",
       "    <tr>\n",
       "      <th>Entertainment_point2</th>\n",
       "      <td>15919.0</td>\n",
       "      <td>4.700484</td>\n",
       "      <td>1.919669</td>\n",
       "      <td>1.0</td>\n",
       "      <td>3.000000</td>\n",
       "      <td>5.000000</td>\n",
       "      <td>6.000000</td>\n",
       "      <td>10.000000</td>\n",
       "    </tr>\n",
       "    <tr>\n",
       "      <th>age2</th>\n",
       "      <td>15919.0</td>\n",
       "      <td>2.023014</td>\n",
       "      <td>1.085187</td>\n",
       "      <td>0.0</td>\n",
       "      <td>0.915068</td>\n",
       "      <td>1.830137</td>\n",
       "      <td>2.872603</td>\n",
       "      <td>3.917808</td>\n",
       "    </tr>\n",
       "    <tr>\n",
       "      <th>Consump_country2</th>\n",
       "      <td>15919.0</td>\n",
       "      <td>4.834789</td>\n",
       "      <td>0.873040</td>\n",
       "      <td>0.0</td>\n",
       "      <td>4.200000</td>\n",
       "      <td>4.700000</td>\n",
       "      <td>5.400000</td>\n",
       "      <td>9.100000</td>\n",
       "    </tr>\n",
       "    <tr>\n",
       "      <th>Consump_city2</th>\n",
       "      <td>15919.0</td>\n",
       "      <td>4.829738</td>\n",
       "      <td>0.921136</td>\n",
       "      <td>-4.7</td>\n",
       "      <td>4.200000</td>\n",
       "      <td>4.800000</td>\n",
       "      <td>5.400000</td>\n",
       "      <td>11.800000</td>\n",
       "    </tr>\n",
       "    <tr>\n",
       "      <th>Consump_comb2</th>\n",
       "      <td>15919.0</td>\n",
       "      <td>4.832263</td>\n",
       "      <td>0.884581</td>\n",
       "      <td>0.0</td>\n",
       "      <td>4.200000</td>\n",
       "      <td>4.800000</td>\n",
       "      <td>5.400000</td>\n",
       "      <td>9.100000</td>\n",
       "    </tr>\n",
       "    <tr>\n",
       "      <th>CO2_Emission2</th>\n",
       "      <td>15919.0</td>\n",
       "      <td>115.377599</td>\n",
       "      <td>250.211455</td>\n",
       "      <td>0.0</td>\n",
       "      <td>103.000000</td>\n",
       "      <td>117.000000</td>\n",
       "      <td>127.000000</td>\n",
       "      <td>14457.000000</td>\n",
       "    </tr>\n",
       "    <tr>\n",
       "      <th>Extras_point2</th>\n",
       "      <td>15919.0</td>\n",
       "      <td>2.480055</td>\n",
       "      <td>1.403499</td>\n",
       "      <td>1.0</td>\n",
       "      <td>1.000000</td>\n",
       "      <td>2.000000</td>\n",
       "      <td>3.000000</td>\n",
       "      <td>10.000000</td>\n",
       "    </tr>\n",
       "    <tr>\n",
       "      <th>Gears2</th>\n",
       "      <td>15919.0</td>\n",
       "      <td>5.870469</td>\n",
       "      <td>0.667620</td>\n",
       "      <td>1.0</td>\n",
       "      <td>5.000000</td>\n",
       "      <td>6.000000</td>\n",
       "      <td>6.000000</td>\n",
       "      <td>9.000000</td>\n",
       "    </tr>\n",
       "    <tr>\n",
       "      <th>Cylinders2</th>\n",
       "      <td>15919.0</td>\n",
       "      <td>3.815692</td>\n",
       "      <td>0.396717</td>\n",
       "      <td>1.0</td>\n",
       "      <td>4.000000</td>\n",
       "      <td>4.000000</td>\n",
       "      <td>4.000000</td>\n",
       "      <td>8.000000</td>\n",
       "    </tr>\n",
       "    <tr>\n",
       "      <th>Weight2</th>\n",
       "      <td>15919.0</td>\n",
       "      <td>1355.532006</td>\n",
       "      <td>200.377020</td>\n",
       "      <td>1.0</td>\n",
       "      <td>1180.000000</td>\n",
       "      <td>1345.000000</td>\n",
       "      <td>1472.000000</td>\n",
       "      <td>2471.000000</td>\n",
       "    </tr>\n",
       "  </tbody>\n",
       "</table>\n",
       "</div>"
      ],
      "text/plain": [
       "                        count          mean           std   min           25%           50%           75%            max\n",
       "price                 15919.0  18019.896727   7386.169409  13.0  12850.000000  16900.000000  21900.000000   74600.000000\n",
       "hp2                   15919.0     88.389660     26.849550   1.0     66.000000     85.000000    101.000000     294.000000\n",
       "Nr_of_Doors2          15919.0      4.660657      0.642198   1.0      4.000000      5.000000      5.000000       7.000000\n",
       "Displacement2         15919.0      1.428978      0.343418   0.0      1.200000      1.500000      1.600000      16.000000\n",
       "Comfort_point2        15919.0     12.300521      5.835628   1.0      8.000000     13.000000     16.000000      33.000000\n",
       "Nr_of_Seats2          15919.0      4.952949      0.474753   2.0      5.000000      5.000000      5.000000       7.000000\n",
       "Safety_point2         15919.0     12.804448      3.957624   1.0     11.000000     13.000000     15.000000      29.000000\n",
       "km2                   15919.0  31976.275363  37063.400396   0.0   1900.000000  20446.000000  46900.000000  317000.000000\n",
       "Entertainment_point2  15919.0      4.700484      1.919669   1.0      3.000000      5.000000      6.000000      10.000000\n",
       "age2                  15919.0      2.023014      1.085187   0.0      0.915068      1.830137      2.872603       3.917808\n",
       "Consump_country2      15919.0      4.834789      0.873040   0.0      4.200000      4.700000      5.400000       9.100000\n",
       "Consump_city2         15919.0      4.829738      0.921136  -4.7      4.200000      4.800000      5.400000      11.800000\n",
       "Consump_comb2         15919.0      4.832263      0.884581   0.0      4.200000      4.800000      5.400000       9.100000\n",
       "CO2_Emission2         15919.0    115.377599    250.211455   0.0    103.000000    117.000000    127.000000   14457.000000\n",
       "Extras_point2         15919.0      2.480055      1.403499   1.0      1.000000      2.000000      3.000000      10.000000\n",
       "Gears2                15919.0      5.870469      0.667620   1.0      5.000000      6.000000      6.000000       9.000000\n",
       "Cylinders2            15919.0      3.815692      0.396717   1.0      4.000000      4.000000      4.000000       8.000000\n",
       "Weight2               15919.0   1355.532006    200.377020   1.0   1180.000000   1345.000000   1472.000000    2471.000000"
      ]
     },
     "execution_count": 118,
     "metadata": {},
     "output_type": "execute_result"
    }
   ],
   "source": [
    "# Checking numeric column statistical values\n",
    "car.select_dtypes(include='number').describe().T"
   ]
  },
  {
   "cell_type": "code",
   "execution_count": 119,
   "metadata": {},
   "outputs": [
    {
     "data": {
      "text/plain": [
       "Index(['price', 'hp2', 'Nr_of_Doors2', 'Displacement2', 'Comfort_point2', 'Nr_of_Seats2', 'Safety_point2', 'km2', 'Entertainment_point2', 'age2', 'Consump_country2', 'Consump_city2', 'Consump_comb2', 'CO2_Emission2', 'Extras_point2', 'Gears2', 'Cylinders2', 'Weight2'], dtype='object')"
      ]
     },
     "execution_count": 119,
     "metadata": {},
     "output_type": "execute_result"
    }
   ],
   "source": [
    "car.select_dtypes(include='number').columns"
   ]
  },
  {
   "cell_type": "code",
   "execution_count": 120,
   "metadata": {},
   "outputs": [],
   "source": [
    "# Importing winsorize from scipy\n",
    "from scipy.stats.mstats import winsorize"
   ]
  },
  {
   "cell_type": "code",
   "execution_count": 121,
   "metadata": {},
   "outputs": [
    {
     "data": {
      "text/plain": [
       "6.0    9362\n",
       "5.0    4412\n",
       "7.0    1908\n",
       "8.0     224\n",
       "9.0       6\n",
       "4.0       2\n",
       "3.0       2\n",
       "1.0       2\n",
       "2.0       1\n",
       "Name: Gears2, dtype: int64"
      ]
     },
     "execution_count": 121,
     "metadata": {},
     "output_type": "execute_result"
    }
   ],
   "source": [
    "car['Gears2'].value_counts()"
   ]
  },
  {
   "cell_type": "code",
   "execution_count": 122,
   "metadata": {},
   "outputs": [
    {
     "data": {
      "text/plain": [
       "<matplotlib.axes._subplots.AxesSubplot at 0x220354afd00>"
      ]
     },
     "execution_count": 122,
     "metadata": {},
     "output_type": "execute_result"
    },
    {
     "data": {
      "image/png": "[encoded data removed]",
      "text/plain": [
       "<Figure size 432x288 with 1 Axes>"
      ]
     },
     "metadata": {},
     "output_type": "display_data"
    }
   ],
   "source": [
    "# Gears boxplot\n",
    "car['Gears2'].plot.box()"
   ]
  },
  {
   "cell_type": "code",
   "execution_count": 123,
   "metadata": {},
   "outputs": [
    {
     "data": {
      "text/plain": [
       "body_type2     Nr_of_Seats2\n",
       "Compact        5.0             2707\n",
       "               4.0              436\n",
       "               2.0                8\n",
       "               7.0                2\n",
       "               3.0                1\n",
       "               6.0                1\n",
       "Convertible    4.0                5\n",
       "               5.0                3\n",
       "Coupe          5.0               22\n",
       "               4.0                2\n",
       "               2.0                1\n",
       "Off-Road       5.0               53\n",
       "               7.0                3\n",
       "Other          5.0              281\n",
       "               2.0                4\n",
       "               7.0                3\n",
       "               4.0                2\n",
       "Sedans         5.0             7186\n",
       "               4.0              664\n",
       "               2.0               71\n",
       "               7.0                4\n",
       "Station wagon  5.0             3528\n",
       "               7.0               19\n",
       "               4.0               14\n",
       "               2.0                1\n",
       "               6.0                1\n",
       "Transporter    5.0               41\n",
       "               2.0               30\n",
       "               7.0               16\n",
       "               4.0                1\n",
       "Van            5.0              492\n",
       "               7.0              315\n",
       "               2.0                1\n",
       "               4.0                1\n",
       "Name: Nr_of_Seats2, dtype: int64"
      ]
     },
     "execution_count": 123,
     "metadata": {},
     "output_type": "execute_result"
    }
   ],
   "source": [
    "# Number of Seats values by body type group\n",
    "car.groupby('body_type2')['Nr_of_Seats2'].value_counts()"
   ]
  },
  {
   "cell_type": "code",
   "execution_count": 124,
   "metadata": {},
   "outputs": [
    {
     "data": {
      "text/plain": [
       "<matplotlib.axes._subplots.AxesSubplot at 0x22035696af0>"
      ]
     },
     "execution_count": 124,
     "metadata": {},
     "output_type": "execute_result"
    },
    {
     "data": {
      "image/png": "[encoded data removed]",
      "text/plain": [
       "<Figure size 1440x1080 with 1 Axes>"
      ]
     },
     "metadata": {},
     "output_type": "display_data"
    }
   ],
   "source": [
    "# Box plots of some columns\n",
    "car[['Nr_of_Doors2', 'Displacement2', 'Comfort_point2',\n",
    "       'Nr_of_Seats2', 'Safety_point2', 'Entertainment_point2',\n",
    "       'Consump_country2', 'Consump_city2', 'Consump_comb2',\n",
    "       'Extras_point2', 'Gears2', 'Cylinders2', 'age2']].plot.box(figsize=(20,15))"
   ]
  },
  {
   "cell_type": "code",
   "execution_count": 125,
   "metadata": {},
   "outputs": [
    {
     "data": {
      "text/plain": [
       "<matplotlib.axes._subplots.AxesSubplot at 0x22035be50d0>"
      ]
     },
     "execution_count": 125,
     "metadata": {},
     "output_type": "execute_result"
    },
    {
     "data": {
      "image/png": "[encoded data removed]",
      "text/plain": [
       "<Figure size 432x288 with 1 Axes>"
      ]
     },
     "metadata": {},
     "output_type": "display_data"
    }
   ],
   "source": [
    "# Espace model weight box plot\n",
    "car[car['model1']=='Espace']['Weight2'].plot.box()"
   ]
  },
  {
   "cell_type": "code",
   "execution_count": 126,
   "metadata": {},
   "outputs": [
    {
     "data": {
      "text/plain": [
       "1.6     5347\n",
       "1.4     3122\n",
       "1.0     2582\n",
       "1.5     1500\n",
       "2.0     1187\n",
       "1.2     1183\n",
       "0.9      377\n",
       "1.1      289\n",
       "1.8      211\n",
       "1.3       39\n",
       "0.0       38\n",
       "2.5       20\n",
       "0.1        7\n",
       "0.2        6\n",
       "1.7        3\n",
       "1.9        2\n",
       "9.8        1\n",
       "0.3        1\n",
       "16.0       1\n",
       "3.0        1\n",
       "2.8        1\n",
       "15.9       1\n",
       "Name: Displacement2, dtype: int64"
      ]
     },
     "execution_count": 126,
     "metadata": {},
     "output_type": "execute_result"
    }
   ],
   "source": [
    "# Displacement value counts\n",
    "car['Displacement2'].value_counts()"
   ]
  },
  {
   "cell_type": "code",
   "execution_count": 127,
   "metadata": {},
   "outputs": [
    {
     "data": {
      "text/plain": [
       "A3          3097\n",
       "A1          2614\n",
       "Insignia    2598\n",
       "Astra       2526\n",
       "Corsa       2219\n",
       "Clio        1839\n",
       "Espace       991\n",
       "Duster        34\n",
       "A2             1\n",
       "Name: model1, dtype: int64"
      ]
     },
     "execution_count": 127,
     "metadata": {},
     "output_type": "execute_result"
    }
   ],
   "source": [
    "# Model value counts\n",
    "car['model1'].value_counts()"
   ]
  },
  {
   "cell_type": "code",
   "execution_count": 128,
   "metadata": {},
   "outputs": [
    {
     "data": {
      "text/plain": [
       "<matplotlib.axes._subplots.AxesSubplot at 0x22035f28130>"
      ]
     },
     "execution_count": 128,
     "metadata": {},
     "output_type": "execute_result"
    },
    {
     "data": {
      "image/png": "[encoded data removed]",
      "text/plain": [
       "<Figure size 432x288 with 1 Axes>"
      ]
     },
     "metadata": {},
     "output_type": "display_data"
    }
   ],
   "source": [
    "# CO2_Emission2 box plot\n",
    "car['CO2_Emission2'].plot.box()"
   ]
  },
  {
   "cell_type": "code",
   "execution_count": 129,
   "metadata": {},
   "outputs": [
    {
     "data": {
      "text/plain": [
       "<matplotlib.axes._subplots.AxesSubplot at 0x22035f285e0>"
      ]
     },
     "execution_count": 129,
     "metadata": {},
     "output_type": "execute_result"
    },
    {
     "data": {
      "image/png": "[encoded data removed]",
      "text/plain": [
       "<Figure size 432x288 with 1 Axes>"
      ]
     },
     "metadata": {},
     "output_type": "display_data"
    }
   ],
   "source": [
    "# price box plot\n",
    "car['price'].plot.box()"
   ]
  },
  {
   "cell_type": "code",
   "execution_count": 130,
   "metadata": {},
   "outputs": [
    {
     "data": {
      "text/plain": [
       "<matplotlib.axes._subplots.AxesSubplot at 0x22035bc1970>"
      ]
     },
     "execution_count": 130,
     "metadata": {},
     "output_type": "execute_result"
    },
    {
     "data": {
      "image/png": "[encoded data removed]",
      "text/plain": [
       "<Figure size 432x288 with 1 Axes>"
      ]
     },
     "metadata": {},
     "output_type": "display_data"
    }
   ],
   "source": [
    "# km box plot\n",
    "car['km2'].plot.box()"
   ]
  },
  {
   "cell_type": "code",
   "execution_count": 131,
   "metadata": {},
   "outputs": [
    {
     "data": {
      "text/plain": [
       "85.0     2546\n",
       "66.0     2125\n",
       "81.0     1403\n",
       "100.0    1317\n",
       "110.0    1112\n",
       "         ... \n",
       "132.0       1\n",
       "44.0        1\n",
       "9.0         1\n",
       "84.0        1\n",
       "163.0       1\n",
       "Name: hp2, Length: 80, dtype: int64"
      ]
     },
     "execution_count": 131,
     "metadata": {},
     "output_type": "execute_result"
    }
   ],
   "source": [
    "# hp value counts\n",
    "car['hp2'].value_counts()"
   ]
  },
  {
   "cell_type": "code",
   "execution_count": 132,
   "metadata": {},
   "outputs": [
    {
     "data": {
      "text/plain": [
       "<matplotlib.axes._subplots.AxesSubplot at 0x220350ac1c0>"
      ]
     },
     "execution_count": 132,
     "metadata": {},
     "output_type": "execute_result"
    },
    {
     "data": {
      "image/png": "[encoded data removed]",
      "text/plain": [
       "<Figure size 432x288 with 1 Axes>"
      ]
     },
     "metadata": {},
     "output_type": "display_data"
    }
   ],
   "source": [
    "# hp box plot\n",
    "car['hp2'].plot.box()"
   ]
  },
  {
   "cell_type": "code",
   "execution_count": 133,
   "metadata": {},
   "outputs": [
    {
     "data": {
      "text/plain": [
       "count    15919.00000\n",
       "mean        88.38966\n",
       "std         26.84955\n",
       "min          1.00000\n",
       "25%         66.00000\n",
       "50%         85.00000\n",
       "75%        101.00000\n",
       "max        294.00000\n",
       "Name: hp2, dtype: float64"
      ]
     },
     "execution_count": 133,
     "metadata": {},
     "output_type": "execute_result"
    }
   ],
   "source": [
    "# hp stats values\n",
    "car['hp2'].describe()"
   ]
  },
  {
   "cell_type": "code",
   "execution_count": 134,
   "metadata": {},
   "outputs": [
    {
     "data": {
      "text/html": [
       "<div>\n",
       "<style scoped>\n",
       "    .dataframe tbody tr th:only-of-type {\n",
       "        vertical-align: middle;\n",
       "    }\n",
       "\n",
       "    .dataframe tbody tr th {\n",
       "        vertical-align: top;\n",
       "    }\n",
       "\n",
       "    .dataframe thead th {\n",
       "        text-align: right;\n",
       "    }\n",
       "</style>\n",
       "<table border=\"1\" class=\"dataframe\">\n",
       "  <thead>\n",
       "    <tr style=\"text-align: right;\">\n",
       "      <th></th>\n",
       "      <th>price</th>\n",
       "      <th>make1</th>\n",
       "      <th>model1</th>\n",
       "      <th>Gearing_Type1</th>\n",
       "      <th>Fuel1</th>\n",
       "      <th>Type2</th>\n",
       "      <th>body_type2</th>\n",
       "      <th>hp2</th>\n",
       "      <th>Nr_of_Doors2</th>\n",
       "      <th>Displacement2</th>\n",
       "      <th>Body_Color2</th>\n",
       "      <th>Comfort_point2</th>\n",
       "      <th>Nr_of_Seats2</th>\n",
       "      <th>Safety_point2</th>\n",
       "      <th>age1_binned</th>\n",
       "      <th>km2</th>\n",
       "      <th>Entertainment_point2</th>\n",
       "      <th>age2</th>\n",
       "      <th>Consump_country2</th>\n",
       "      <th>Consump_city2</th>\n",
       "      <th>Consump_comb2</th>\n",
       "      <th>CO2_Emission2</th>\n",
       "      <th>Extras_point2</th>\n",
       "      <th>Upholstery2</th>\n",
       "      <th>vat2</th>\n",
       "      <th>Gears2</th>\n",
       "      <th>Cylinders2</th>\n",
       "      <th>Drive_chain2</th>\n",
       "      <th>Weight2</th>\n",
       "    </tr>\n",
       "  </thead>\n",
       "  <tbody>\n",
       "    <tr>\n",
       "      <th>10566</th>\n",
       "      <td>16900</td>\n",
       "      <td>Opel</td>\n",
       "      <td>Insignia</td>\n",
       "      <td>Automatic</td>\n",
       "      <td>Diesel</td>\n",
       "      <td>Used</td>\n",
       "      <td>Station wagon</td>\n",
       "      <td>125.0</td>\n",
       "      <td>5.0</td>\n",
       "      <td>2.0</td>\n",
       "      <td>Black</td>\n",
       "      <td>14.0</td>\n",
       "      <td>5.0</td>\n",
       "      <td>15.0</td>\n",
       "      <td>(2, 3]</td>\n",
       "      <td>59800.0</td>\n",
       "      <td>2.0</td>\n",
       "      <td>2.668493</td>\n",
       "      <td>0.0</td>\n",
       "      <td>0.0</td>\n",
       "      <td>0.0</td>\n",
       "      <td>0.0</td>\n",
       "      <td>2.0</td>\n",
       "      <td>Part leather</td>\n",
       "      <td>VAT deductible</td>\n",
       "      <td>6.0</td>\n",
       "      <td>4.0</td>\n",
       "      <td>front</td>\n",
       "      <td>1589.0</td>\n",
       "    </tr>\n",
       "  </tbody>\n",
       "</table>\n",
       "</div>"
      ],
      "text/plain": [
       "       price make1    model1 Gearing_Type1   Fuel1 Type2     body_type2    hp2  Nr_of_Doors2  Displacement2 Body_Color2  Comfort_point2  Nr_of_Seats2  Safety_point2 age1_binned      km2  Entertainment_point2      age2  Consump_country2  Consump_city2  Consump_comb2  CO2_Emission2  Extras_point2   Upholstery2            vat2  Gears2  Cylinders2 Drive_chain2  Weight2\n",
       "10566  16900  Opel  Insignia     Automatic  Diesel  Used  Station wagon  125.0           5.0            2.0       Black            14.0           5.0           15.0      (2, 3]  59800.0                   2.0  2.668493               0.0            0.0            0.0            0.0            2.0  Part leather  VAT deductible     6.0         4.0        front   1589.0"
      ]
     },
     "execution_count": 134,
     "metadata": {},
     "output_type": "execute_result"
    }
   ],
   "source": [
    "# Consump_country2 values equal or below zero\n",
    "car[car['Consump_country2'] <= 0]"
   ]
  },
  {
   "cell_type": "code",
   "execution_count": 135,
   "metadata": {},
   "outputs": [],
   "source": [
    "# Filling missing values with median if values are equal or below zero\n",
    "car['Consump_country2'] =  car['Consump_country2'].apply(lambda x: car['Consump_country2'].median() if x<=0 else x)"
   ]
  },
  {
   "cell_type": "code",
   "execution_count": 138,
   "metadata": {},
   "outputs": [],
   "source": [
    "# Filling missing values with median if values are equal or below zero\n",
    "car['Consump_city2'] =  car['Consump_city2'].apply(lambda x: car['Consump_city2'].median() if x<=0 else x)"
   ]
  },
  {
   "cell_type": "code",
   "execution_count": 139,
   "metadata": {},
   "outputs": [],
   "source": [
    "# Filling missing values with median if values are equal or below zero\n",
    "car['Consump_comb2'] =  car['Consump_comb2'].apply(lambda x: car['Consump_comb2'].median() if x<=0 else x)"
   ]
  },
  {
   "cell_type": "code",
   "execution_count": 140,
   "metadata": {},
   "outputs": [],
   "source": [
    "# Filling missing values with median if values are out of possible range\n",
    "car['Displacement2'] = car['Displacement2'].apply(lambda x: car['Displacement2'].median() if (x<=0.5 or x>= 3.5) else x)"
   ]
  },
  {
   "cell_type": "code",
   "execution_count": 141,
   "metadata": {},
   "outputs": [
    {
     "data": {
      "text/plain": [
       "<matplotlib.axes._subplots.AxesSubplot at 0x2203520e7f0>"
      ]
     },
     "execution_count": 141,
     "metadata": {},
     "output_type": "execute_result"
    },
    {
     "data": {
      "image/png": "[encoded data removed]",
      "text/plain": [
       "<Figure size 432x288 with 1 Axes>"
      ]
     },
     "metadata": {},
     "output_type": "display_data"
    }
   ],
   "source": [
    "# Displacement2 box plot\n",
    "car['Displacement2'].plot.box()"
   ]
  },
  {
   "cell_type": "code",
   "execution_count": 142,
   "metadata": {},
   "outputs": [],
   "source": [
    "# Filling missing values with median if values are below 30\n",
    "car['hp2'] = car['hp2'].apply(lambda x: car['hp2'].median() if x<=30 else x)"
   ]
  },
  {
   "cell_type": "code",
   "execution_count": 143,
   "metadata": {},
   "outputs": [
    {
     "data": {
      "text/plain": [
       "<matplotlib.axes._subplots.AxesSubplot at 0x22035280520>"
      ]
     },
     "execution_count": 143,
     "metadata": {},
     "output_type": "execute_result"
    },
    {
     "data": {
      "image/png": "[encoded data removed]",
      "text/plain": [
       "<Figure size 432x288 with 1 Axes>"
      ]
     },
     "metadata": {},
     "output_type": "display_data"
    }
   ],
   "source": [
    "# hp2 box plot\n",
    "car['hp2'].plot.box()"
   ]
  },
  {
   "cell_type": "code",
   "execution_count": 144,
   "metadata": {},
   "outputs": [
    {
     "data": {
      "text/plain": [
       "count    15919.000000\n",
       "mean      1355.532006\n",
       "std        200.377020\n",
       "min          1.000000\n",
       "25%       1180.000000\n",
       "50%       1345.000000\n",
       "75%       1472.000000\n",
       "max       2471.000000\n",
       "Name: Weight2, dtype: float64"
      ]
     },
     "execution_count": 144,
     "metadata": {},
     "output_type": "execute_result"
    }
   ],
   "source": [
    "# Weight2 stats values\n",
    "car['Weight2'].describe()"
   ]
  },
  {
   "cell_type": "code",
   "execution_count": 145,
   "metadata": {},
   "outputs": [
    {
     "data": {
      "text/plain": [
       "<matplotlib.axes._subplots.AxesSubplot at 0x220352c0550>"
      ]
     },
     "execution_count": 145,
     "metadata": {},
     "output_type": "execute_result"
    },
    {
     "data": {
      "image/png": "[encoded data removed]",
      "text/plain": [
       "<Figure size 432x288 with 1 Axes>"
      ]
     },
     "metadata": {},
     "output_type": "display_data"
    }
   ],
   "source": [
    "# Weight2 box plot\n",
    "car['Weight2'].plot.box()"
   ]
  },
  {
   "cell_type": "code",
   "execution_count": 146,
   "metadata": {},
   "outputs": [],
   "source": [
    "# Filling missing values with median if values are below 500\n",
    "car['Weight2'] = car['Weight2'].apply(lambda x: car['Weight2'].median() if x<=500 else x)"
   ]
  },
  {
   "cell_type": "code",
   "execution_count": 147,
   "metadata": {},
   "outputs": [
    {
     "data": {
      "text/plain": [
       "<matplotlib.axes._subplots.AxesSubplot at 0x22035302fd0>"
      ]
     },
     "execution_count": 147,
     "metadata": {},
     "output_type": "execute_result"
    },
    {
     "data": {
      "image/png": "[encoded data removed]",
      "text/plain": [
       "<Figure size 432x288 with 1 Axes>"
      ]
     },
     "metadata": {},
     "output_type": "display_data"
    }
   ],
   "source": [
    "# Weight2 box plot\n",
    "car['Weight2'].plot.box()"
   ]
  },
  {
   "cell_type": "code",
   "execution_count": 148,
   "metadata": {},
   "outputs": [
    {
     "data": {
      "text/plain": [
       "<matplotlib.axes._subplots.AxesSubplot at 0x22035383df0>"
      ]
     },
     "execution_count": 148,
     "metadata": {},
     "output_type": "execute_result"
    },
    {
     "data": {
      "image/png": "[encoded data removed]",
      "text/plain": [
       "<Figure size 432x288 with 1 Axes>"
      ]
     },
     "metadata": {},
     "output_type": "display_data"
    }
   ],
   "source": [
    "# CO2_Emission2 box plot\n",
    "car['CO2_Emission2'].plot.box()"
   ]
  },
  {
   "cell_type": "code",
   "execution_count": 149,
   "metadata": {},
   "outputs": [],
   "source": [
    "# Filling missing values with median if values are out of accepted range\n",
    "car['CO2_Emission2'] = car['CO2_Emission2'].apply(lambda x: car['CO2_Emission2'].median() if (x<=20 or x>=400) else x)"
   ]
  },
  {
   "cell_type": "code",
   "execution_count": 150,
   "metadata": {},
   "outputs": [
    {
     "data": {
      "text/plain": [
       "<matplotlib.axes._subplots.AxesSubplot at 0x220357059d0>"
      ]
     },
     "execution_count": 150,
     "metadata": {},
     "output_type": "execute_result"
    },
    {
     "data": {
      "image/png": "[encoded data removed]",
      "text/plain": [
       "<Figure size 432x288 with 1 Axes>"
      ]
     },
     "metadata": {},
     "output_type": "display_data"
    }
   ],
   "source": [
    "# CO2_Emission2 box plot\n",
    "car['CO2_Emission2'].plot.box()"
   ]
  },
  {
   "cell_type": "code",
   "execution_count": 151,
   "metadata": {},
   "outputs": [
    {
     "data": {
      "text/plain": [
       "6.0    9362\n",
       "5.0    4412\n",
       "7.0    1908\n",
       "8.0     224\n",
       "9.0       6\n",
       "4.0       2\n",
       "3.0       2\n",
       "1.0       2\n",
       "2.0       1\n",
       "Name: Gears2, dtype: int64"
      ]
     },
     "execution_count": 151,
     "metadata": {},
     "output_type": "execute_result"
    }
   ],
   "source": [
    "car['Gears2'].value_counts()"
   ]
  },
  {
   "cell_type": "code",
   "execution_count": 152,
   "metadata": {},
   "outputs": [],
   "source": [
    "# Filling missing values with median if values are out of accepted range\n",
    "car['Gears2'] = car['Gears2'].apply(lambda x: car['Gears2'].median() if (x<=4 or x>=9) else x)"
   ]
  },
  {
   "cell_type": "code",
   "execution_count": 153,
   "metadata": {},
   "outputs": [
    {
     "data": {
      "text/plain": [
       "<matplotlib.axes._subplots.AxesSubplot at 0x220357299a0>"
      ]
     },
     "execution_count": 153,
     "metadata": {},
     "output_type": "execute_result"
    },
    {
     "data": {
      "image/png": "[encoded data removed]",
      "text/plain": [
       "<Figure size 432x288 with 1 Axes>"
      ]
     },
     "metadata": {},
     "output_type": "display_data"
    }
   ],
   "source": [
    "# Gears2 box plot\n",
    "car['Gears2'].plot.box()"
   ]
  },
  {
   "cell_type": "code",
   "execution_count": 154,
   "metadata": {},
   "outputs": [
    {
     "data": {
      "text/plain": [
       "Index(['price', 'make1', 'model1', 'Gearing_Type1', 'Fuel1', 'Type2', 'body_type2', 'hp2', 'Nr_of_Doors2', 'Displacement2', 'Body_Color2', 'Comfort_point2', 'Nr_of_Seats2', 'Safety_point2', 'age1_binned', 'km2', 'Entertainment_point2', 'age2', 'Consump_country2', 'Consump_city2', 'Consump_comb2', 'CO2_Emission2', 'Extras_point2', 'Upholstery2', 'vat2', 'Gears2', 'Cylinders2', 'Drive_chain2', 'Weight2'], dtype='object')"
      ]
     },
     "execution_count": 154,
     "metadata": {},
     "output_type": "execute_result"
    }
   ],
   "source": [
    "# Checking columns\n",
    "car.columns"
   ]
  },
  {
   "cell_type": "code",
   "execution_count": 156,
   "metadata": {},
   "outputs": [
    {
     "data": {
      "text/plain": [
       "Index(['price', 'hp2', 'Nr_of_Doors2', 'Displacement2', 'Comfort_point2', 'Nr_of_Seats2', 'Safety_point2', 'km2', 'Entertainment_point2', 'age2', 'Consump_country2', 'Consump_city2', 'Consump_comb2', 'CO2_Emission2', 'Extras_point2', 'Gears2', 'Cylinders2', 'Weight2'], dtype='object')"
      ]
     },
     "execution_count": 156,
     "metadata": {},
     "output_type": "execute_result"
    }
   ],
   "source": [
    "# Selecting only numerical columns\n",
    "car.select_dtypes(include='number').columns"
   ]
  },
  {
   "cell_type": "code",
   "execution_count": 158,
   "metadata": {},
   "outputs": [],
   "source": [
    "# Applying winsorize\n",
    "car['Consump_country3'] = winsorize(car['Consump_country2'], limits=[0.01, 0.01])"
   ]
  },
  {
   "cell_type": "code",
   "execution_count": 159,
   "metadata": {},
   "outputs": [],
   "source": [
    "# Applying winsorize\n",
    "car['Consump_city3'] = winsorize(car['Consump_city2'], limits=[0.01, 0.01])"
   ]
  },
  {
   "cell_type": "code",
   "execution_count": 160,
   "metadata": {},
   "outputs": [],
   "source": [
    "# Applying winsorize\n",
    "car['Consump_comb3'] = winsorize(car['Consump_comb2'], limits=[0.01, 0.01])"
   ]
  },
  {
   "cell_type": "code",
   "execution_count": 161,
   "metadata": {},
   "outputs": [],
   "source": [
    "# Applying winsorize\n",
    "car['CO2_Emission3'] = winsorize(car['CO2_Emission2'], limits=[0.01, 0.01])"
   ]
  },
  {
   "cell_type": "code",
   "execution_count": 164,
   "metadata": {},
   "outputs": [
    {
     "data": {
      "text/plain": [
       "<matplotlib.axes._subplots.AxesSubplot at 0x2203580ab20>"
      ]
     },
     "execution_count": 164,
     "metadata": {},
     "output_type": "execute_result"
    },
    {
     "data": {
      "image/png": "[encoded data removed]",
      "text/plain": [
       "<Figure size 432x288 with 1 Axes>"
      ]
     },
     "metadata": {},
     "output_type": "display_data"
    }
   ],
   "source": [
    "# km box plot\n",
    "car['km2'].plot.box()"
   ]
  },
  {
   "cell_type": "code",
   "execution_count": 165,
   "metadata": {},
   "outputs": [],
   "source": [
    "# Applying winsorize\n",
    "car['Weight3'] = winsorize(car['Weight2'], limits=[0, 0.02])"
   ]
  },
  {
   "cell_type": "code",
   "execution_count": 166,
   "metadata": {},
   "outputs": [],
   "source": [
    "# Applying winsorize\n",
    "car['hp3'] = winsorize(car['hp2'], limits=[0, 0.02])"
   ]
  },
  {
   "cell_type": "code",
   "execution_count": 167,
   "metadata": {},
   "outputs": [],
   "source": [
    "# Applying winsorize\n",
    "car['km3'] = winsorize(car['km2'], limits=[0, 0.03])"
   ]
  },
  {
   "cell_type": "code",
   "execution_count": 168,
   "metadata": {},
   "outputs": [
    {
     "data": {
      "text/plain": [
       "<matplotlib.axes._subplots.AxesSubplot at 0x22035721e20>"
      ]
     },
     "execution_count": 168,
     "metadata": {},
     "output_type": "execute_result"
    },
    {
     "data": {
      "image/png": "[encoded data removed]",
      "text/plain": [
       "<Figure size 432x288 with 1 Axes>"
      ]
     },
     "metadata": {},
     "output_type": "display_data"
    }
   ],
   "source": [
    "# km box plot\n",
    "car['km3'].plot.box()"
   ]
  },
  {
   "cell_type": "code",
   "execution_count": 170,
   "metadata": {},
   "outputs": [],
   "source": [
    "# Creating a list of column names, adding \"3\" prefix to make it clear\n",
    "column_name={'make1':'make3', 'model1':'model3', 'Gearing_Type1':'Gearing_Type3', 'Fuel1':'Fuel3', 'Type2':'Type3', 'body_type2':'body_type3',\\\n",
    "'Nr_of_Doors2':'Nr_of_Doors3','Body_Color2':'Body_Color3','Comfort_point2':'Comfort_point3','Nr_of_Seats2':'Nr_of_Seats3','Safety_point2':'Safety_point3',\\\n",
    "'Entertainment_point2':'Entertainment_point3','age2':'age3','Extras_point2':'Extras_point3','Upholstery2':'Upholstery3','vat2':'vat3',\\\n",
    "'Gears2':'Gears3','Cylinders2':'Cylinders3','Drive_chain2':'Drive_chain3'}"
   ]
  },
  {
   "cell_type": "code",
   "execution_count": 171,
   "metadata": {},
   "outputs": [],
   "source": [
    "# Renaming column names\n",
    "car = car.rename(columns=column_name)"
   ]
  },
  {
   "cell_type": "code",
   "execution_count": 172,
   "metadata": {},
   "outputs": [
    {
     "data": {
      "text/plain": [
       "Index(['price', 'make3', 'model3', 'Gearing_Type3', 'Fuel3', 'Type3', 'body_type3', 'hp2', 'Nr_of_Doors3', 'Displacement2', 'Body_Color3', 'Comfort_point3', 'Nr_of_Seats3', 'Safety_point3', 'age1_binned', 'km2', 'Entertainment_point3', 'age3', 'Consump_country2', 'Consump_city2', 'Consump_comb2', 'CO2_Emission2', 'Extras_point3', 'Upholstery3', 'vat3', 'Gears3', 'Cylinders3', 'Drive_chain3', 'Weight2', 'Consump_country3', 'Consump_city3', 'Consump_comb3', 'CO2_Emission3', 'Weight3', 'hp3', 'km3'], dtype='object')"
      ]
     },
     "execution_count": 172,
     "metadata": {},
     "output_type": "execute_result"
    }
   ],
   "source": [
    "# Columns after rename\n",
    "car.columns"
   ]
  },
  {
   "cell_type": "code",
   "execution_count": 173,
   "metadata": {},
   "outputs": [],
   "source": [
    "# Creating a list of columns to drop\n",
    "drop_after_outliers = ['hp2', 'Displacement2','age1_binned', 'km2',\\\n",
    "                       'Consump_country2', 'Consump_city2', 'Consump_comb2', 'CO2_Emission2',\\\n",
    "                       'Weight2']"
   ]
  },
  {
   "cell_type": "code",
   "execution_count": 174,
   "metadata": {},
   "outputs": [
    {
     "name": "stdout",
     "output_type": "stream",
     "text": [
      "Shape of car DataFrame BEFORE handling with outliers: (15919, 36)\n",
      "Shape of car DataFrame AFTER handling with outliers: (15919, 27)\n"
     ]
    }
   ],
   "source": [
    "# Dropping columns after filling operations\n",
    "print('Shape of car DataFrame BEFORE handling with outliers:', car.shape)\n",
    "car.drop(drop_after_outliers, axis=1, inplace=True)\n",
    "print('Shape of car DataFrame AFTER handling with outliers:', car.shape)"
   ]
  },
  {
   "cell_type": "code",
   "execution_count": 175,
   "metadata": {},
   "outputs": [
    {
     "data": {
      "text/plain": [
       "Index(['price', 'make3', 'model3', 'Gearing_Type3', 'Fuel3', 'Type3', 'body_type3', 'Nr_of_Doors3', 'Body_Color3', 'Comfort_point3', 'Nr_of_Seats3', 'Safety_point3', 'Entertainment_point3', 'age3', 'Extras_point3', 'Upholstery3', 'vat3', 'Gears3', 'Cylinders3', 'Drive_chain3', 'Consump_country3', 'Consump_city3', 'Consump_comb3', 'CO2_Emission3', 'Weight3', 'hp3', 'km3'], dtype='object')"
      ]
     },
     "execution_count": 175,
     "metadata": {},
     "output_type": "execute_result"
    }
   ],
   "source": [
    "# Columns after drop\n",
    "car.columns"
   ]
  },
  {
   "cell_type": "code",
   "execution_count": 176,
   "metadata": {},
   "outputs": [
    {
     "data": {
      "text/html": [
       "<div>\n",
       "<style scoped>\n",
       "    .dataframe tbody tr th:only-of-type {\n",
       "        vertical-align: middle;\n",
       "    }\n",
       "\n",
       "    .dataframe tbody tr th {\n",
       "        vertical-align: top;\n",
       "    }\n",
       "\n",
       "    .dataframe thead th {\n",
       "        text-align: right;\n",
       "    }\n",
       "</style>\n",
       "<table border=\"1\" class=\"dataframe\">\n",
       "  <thead>\n",
       "    <tr style=\"text-align: right;\">\n",
       "      <th></th>\n",
       "      <th>price</th>\n",
       "      <th>make3</th>\n",
       "      <th>model3</th>\n",
       "      <th>Gearing_Type3</th>\n",
       "      <th>Fuel3</th>\n",
       "      <th>Type3</th>\n",
       "      <th>body_type3</th>\n",
       "      <th>Nr_of_Doors3</th>\n",
       "      <th>Body_Color3</th>\n",
       "      <th>Comfort_point3</th>\n",
       "      <th>Nr_of_Seats3</th>\n",
       "      <th>Safety_point3</th>\n",
       "      <th>Entertainment_point3</th>\n",
       "      <th>age3</th>\n",
       "      <th>Extras_point3</th>\n",
       "      <th>Upholstery3</th>\n",
       "      <th>vat3</th>\n",
       "      <th>Gears3</th>\n",
       "      <th>Cylinders3</th>\n",
       "      <th>Drive_chain3</th>\n",
       "      <th>Consump_country3</th>\n",
       "      <th>Consump_city3</th>\n",
       "      <th>Consump_comb3</th>\n",
       "      <th>CO2_Emission3</th>\n",
       "      <th>Weight3</th>\n",
       "      <th>hp3</th>\n",
       "      <th>km3</th>\n",
       "    </tr>\n",
       "  </thead>\n",
       "  <tbody>\n",
       "    <tr>\n",
       "      <th>0</th>\n",
       "      <td>15770</td>\n",
       "      <td>Audi</td>\n",
       "      <td>A1</td>\n",
       "      <td>Automatic</td>\n",
       "      <td>Diesel</td>\n",
       "      <td>Used</td>\n",
       "      <td>Sedans</td>\n",
       "      <td>5.0</td>\n",
       "      <td>Black</td>\n",
       "      <td>16.0</td>\n",
       "      <td>5.0</td>\n",
       "      <td>14.0</td>\n",
       "      <td>4.0</td>\n",
       "      <td>3.917808</td>\n",
       "      <td>3.0</td>\n",
       "      <td>Cloth</td>\n",
       "      <td>VAT deductible</td>\n",
       "      <td>6.0</td>\n",
       "      <td>3.0</td>\n",
       "      <td>front</td>\n",
       "      <td>3.8</td>\n",
       "      <td>3.8</td>\n",
       "      <td>3.8</td>\n",
       "      <td>99.0</td>\n",
       "      <td>1220.0</td>\n",
       "      <td>66.0</td>\n",
       "      <td>56013.0</td>\n",
       "    </tr>\n",
       "    <tr>\n",
       "      <th>1</th>\n",
       "      <td>14500</td>\n",
       "      <td>Audi</td>\n",
       "      <td>A1</td>\n",
       "      <td>Automatic</td>\n",
       "      <td>Gasoline</td>\n",
       "      <td>Used</td>\n",
       "      <td>Sedans</td>\n",
       "      <td>3.0</td>\n",
       "      <td>Red</td>\n",
       "      <td>9.0</td>\n",
       "      <td>4.0</td>\n",
       "      <td>15.0</td>\n",
       "      <td>5.0</td>\n",
       "      <td>2.753425</td>\n",
       "      <td>4.0</td>\n",
       "      <td>Cloth</td>\n",
       "      <td>Price negotiable</td>\n",
       "      <td>7.0</td>\n",
       "      <td>4.0</td>\n",
       "      <td>front</td>\n",
       "      <td>5.6</td>\n",
       "      <td>5.6</td>\n",
       "      <td>5.6</td>\n",
       "      <td>129.0</td>\n",
       "      <td>1255.0</td>\n",
       "      <td>141.0</td>\n",
       "      <td>80000.0</td>\n",
       "    </tr>\n",
       "    <tr>\n",
       "      <th>2</th>\n",
       "      <td>14640</td>\n",
       "      <td>Audi</td>\n",
       "      <td>A1</td>\n",
       "      <td>Automatic</td>\n",
       "      <td>Diesel</td>\n",
       "      <td>Used</td>\n",
       "      <td>Sedans</td>\n",
       "      <td>4.0</td>\n",
       "      <td>Black</td>\n",
       "      <td>13.0</td>\n",
       "      <td>4.0</td>\n",
       "      <td>12.0</td>\n",
       "      <td>2.0</td>\n",
       "      <td>3.832877</td>\n",
       "      <td>2.0</td>\n",
       "      <td>Cloth</td>\n",
       "      <td>VAT deductible</td>\n",
       "      <td>6.0</td>\n",
       "      <td>3.0</td>\n",
       "      <td>front</td>\n",
       "      <td>3.8</td>\n",
       "      <td>3.8</td>\n",
       "      <td>3.8</td>\n",
       "      <td>99.0</td>\n",
       "      <td>1229.0</td>\n",
       "      <td>85.0</td>\n",
       "      <td>83450.0</td>\n",
       "    </tr>\n",
       "    <tr>\n",
       "      <th>3</th>\n",
       "      <td>14500</td>\n",
       "      <td>Audi</td>\n",
       "      <td>A1</td>\n",
       "      <td>Automatic</td>\n",
       "      <td>Diesel</td>\n",
       "      <td>Used</td>\n",
       "      <td>Sedans</td>\n",
       "      <td>3.0</td>\n",
       "      <td>Brown</td>\n",
       "      <td>16.0</td>\n",
       "      <td>4.0</td>\n",
       "      <td>14.0</td>\n",
       "      <td>8.0</td>\n",
       "      <td>3.334247</td>\n",
       "      <td>3.0</td>\n",
       "      <td>Cloth</td>\n",
       "      <td>VAT deductible</td>\n",
       "      <td>6.0</td>\n",
       "      <td>3.0</td>\n",
       "      <td>front</td>\n",
       "      <td>3.8</td>\n",
       "      <td>3.8</td>\n",
       "      <td>3.8</td>\n",
       "      <td>99.0</td>\n",
       "      <td>1195.0</td>\n",
       "      <td>66.0</td>\n",
       "      <td>73000.0</td>\n",
       "    </tr>\n",
       "    <tr>\n",
       "      <th>4</th>\n",
       "      <td>16790</td>\n",
       "      <td>Audi</td>\n",
       "      <td>A1</td>\n",
       "      <td>Automatic</td>\n",
       "      <td>Diesel</td>\n",
       "      <td>Used</td>\n",
       "      <td>Sedans</td>\n",
       "      <td>5.0</td>\n",
       "      <td>Black</td>\n",
       "      <td>13.0</td>\n",
       "      <td>5.0</td>\n",
       "      <td>13.0</td>\n",
       "      <td>7.0</td>\n",
       "      <td>3.586301</td>\n",
       "      <td>4.0</td>\n",
       "      <td>Cloth</td>\n",
       "      <td>VAT deductible</td>\n",
       "      <td>6.0</td>\n",
       "      <td>3.0</td>\n",
       "      <td>front</td>\n",
       "      <td>4.1</td>\n",
       "      <td>4.1</td>\n",
       "      <td>4.1</td>\n",
       "      <td>109.0</td>\n",
       "      <td>1229.0</td>\n",
       "      <td>66.0</td>\n",
       "      <td>16200.0</td>\n",
       "    </tr>\n",
       "  </tbody>\n",
       "</table>\n",
       "</div>"
      ],
      "text/plain": [
       "   price make3 model3 Gearing_Type3     Fuel3 Type3 body_type3  Nr_of_Doors3 Body_Color3  Comfort_point3  Nr_of_Seats3  Safety_point3  Entertainment_point3      age3  Extras_point3 Upholstery3              vat3  Gears3  Cylinders3 Drive_chain3  Consump_country3  Consump_city3  Consump_comb3  CO2_Emission3  Weight3    hp3      km3\n",
       "0  15770  Audi     A1     Automatic    Diesel  Used     Sedans           5.0       Black            16.0           5.0           14.0                   4.0  3.917808            3.0       Cloth    VAT deductible     6.0         3.0        front               3.8            3.8            3.8           99.0   1220.0   66.0  56013.0\n",
       "1  14500  Audi     A1     Automatic  Gasoline  Used     Sedans           3.0         Red             9.0           4.0           15.0                   5.0  2.753425            4.0       Cloth  Price negotiable     7.0         4.0        front               5.6            5.6            5.6          129.0   1255.0  141.0  80000.0\n",
       "2  14640  Audi     A1     Automatic    Diesel  Used     Sedans           4.0       Black            13.0           4.0           12.0                   2.0  3.832877            2.0       Cloth    VAT deductible     6.0         3.0        front               3.8            3.8            3.8           99.0   1229.0   85.0  83450.0\n",
       "3  14500  Audi     A1     Automatic    Diesel  Used     Sedans           3.0       Brown            16.0           4.0           14.0                   8.0  3.334247            3.0       Cloth    VAT deductible     6.0         3.0        front               3.8            3.8            3.8           99.0   1195.0   66.0  73000.0\n",
       "4  16790  Audi     A1     Automatic    Diesel  Used     Sedans           5.0       Black            13.0           5.0           13.0                   7.0  3.586301            4.0       Cloth    VAT deductible     6.0         3.0        front               4.1            4.1            4.1          109.0   1229.0   66.0  16200.0"
      ]
     },
     "execution_count": 176,
     "metadata": {},
     "output_type": "execute_result"
    }
   ],
   "source": [
    "# Dataframe\n",
    "car.head()"
   ]
  },
  {
   "cell_type": "code",
   "execution_count": 177,
   "metadata": {},
   "outputs": [],
   "source": [
    "# Creating a list to apply get dummies\n",
    "dummy_list = ['make3', 'model3', 'Gearing_Type3', 'Fuel3', 'Type3', 'body_type3', 'Body_Color3', 'Upholstery3', 'vat3', 'Drive_chain3']"
   ]
  },
  {
   "cell_type": "code",
   "execution_count": 178,
   "metadata": {},
   "outputs": [],
   "source": [
    "# Applying get dummies\n",
    "car = pd.get_dummies(car, columns=dummy_list)"
   ]
  },
  {
   "cell_type": "code",
   "execution_count": 179,
   "metadata": {},
   "outputs": [
    {
     "data": {
      "text/plain": [
       "(15919, 72)"
      ]
     },
     "execution_count": 179,
     "metadata": {},
     "output_type": "execute_result"
    }
   ],
   "source": [
    "# Shape of dataframe after get dummies\n",
    "car.shape"
   ]
  },
  {
   "cell_type": "code",
   "execution_count": 180,
   "metadata": {},
   "outputs": [
    {
     "data": {
      "text/html": [
       "<div>\n",
       "<style scoped>\n",
       "    .dataframe tbody tr th:only-of-type {\n",
       "        vertical-align: middle;\n",
       "    }\n",
       "\n",
       "    .dataframe tbody tr th {\n",
       "        vertical-align: top;\n",
       "    }\n",
       "\n",
       "    .dataframe thead th {\n",
       "        text-align: right;\n",
       "    }\n",
       "</style>\n",
       "<table border=\"1\" class=\"dataframe\">\n",
       "  <thead>\n",
       "    <tr style=\"text-align: right;\">\n",
       "      <th></th>\n",
       "      <th>price</th>\n",
       "      <th>Nr_of_Doors3</th>\n",
       "      <th>Comfort_point3</th>\n",
       "      <th>Nr_of_Seats3</th>\n",
       "      <th>Safety_point3</th>\n",
       "      <th>Entertainment_point3</th>\n",
       "      <th>age3</th>\n",
       "      <th>Extras_point3</th>\n",
       "      <th>Gears3</th>\n",
       "      <th>Cylinders3</th>\n",
       "      <th>Consump_country3</th>\n",
       "      <th>Consump_city3</th>\n",
       "      <th>Consump_comb3</th>\n",
       "      <th>CO2_Emission3</th>\n",
       "      <th>Weight3</th>\n",
       "      <th>hp3</th>\n",
       "      <th>km3</th>\n",
       "      <th>make3_Audi</th>\n",
       "      <th>make3_Opel</th>\n",
       "      <th>make3_Renault</th>\n",
       "      <th>model3_A1</th>\n",
       "      <th>model3_A2</th>\n",
       "      <th>model3_A3</th>\n",
       "      <th>model3_Astra</th>\n",
       "      <th>model3_Clio</th>\n",
       "      <th>model3_Corsa</th>\n",
       "      <th>model3_Duster</th>\n",
       "      <th>model3_Espace</th>\n",
       "      <th>model3_Insignia</th>\n",
       "      <th>Gearing_Type3_Automatic</th>\n",
       "      <th>Gearing_Type3_Manual</th>\n",
       "      <th>Gearing_Type3_Semi-automatic</th>\n",
       "      <th>Fuel3_Diesel</th>\n",
       "      <th>Fuel3_Electric</th>\n",
       "      <th>Fuel3_Gasoline</th>\n",
       "      <th>Fuel3_LPG/CNG</th>\n",
       "      <th>Type3_Demonstration</th>\n",
       "      <th>Type3_Employee's car</th>\n",
       "      <th>Type3_New</th>\n",
       "      <th>Type3_Pre-registered</th>\n",
       "      <th>Type3_Used</th>\n",
       "      <th>body_type3_Compact</th>\n",
       "      <th>body_type3_Convertible</th>\n",
       "      <th>body_type3_Coupe</th>\n",
       "      <th>body_type3_Off-Road</th>\n",
       "      <th>body_type3_Other</th>\n",
       "      <th>body_type3_Sedans</th>\n",
       "      <th>body_type3_Station wagon</th>\n",
       "      <th>body_type3_Transporter</th>\n",
       "      <th>body_type3_Van</th>\n",
       "      <th>Body_Color3_Beige</th>\n",
       "      <th>Body_Color3_Black</th>\n",
       "      <th>Body_Color3_Blue</th>\n",
       "      <th>Body_Color3_Bronze</th>\n",
       "      <th>Body_Color3_Brown</th>\n",
       "      <th>Body_Color3_Gold</th>\n",
       "      <th>Body_Color3_Green</th>\n",
       "      <th>Body_Color3_Grey</th>\n",
       "      <th>Body_Color3_Orange</th>\n",
       "      <th>Body_Color3_Red</th>\n",
       "      <th>Body_Color3_Silver</th>\n",
       "      <th>Body_Color3_Violet</th>\n",
       "      <th>Body_Color3_White</th>\n",
       "      <th>Body_Color3_Yellow</th>\n",
       "      <th>Upholstery3_Cloth</th>\n",
       "      <th>Upholstery3_Full leather</th>\n",
       "      <th>Upholstery3_Part leather</th>\n",
       "      <th>vat3_Price negotiable</th>\n",
       "      <th>vat3_VAT deductible</th>\n",
       "      <th>Drive_chain3_4WD</th>\n",
       "      <th>Drive_chain3_front</th>\n",
       "      <th>Drive_chain3_rear</th>\n",
       "    </tr>\n",
       "  </thead>\n",
       "  <tbody>\n",
       "    <tr>\n",
       "      <th>0</th>\n",
       "      <td>15770</td>\n",
       "      <td>5.0</td>\n",
       "      <td>16.0</td>\n",
       "      <td>5.0</td>\n",
       "      <td>14.0</td>\n",
       "      <td>4.0</td>\n",
       "      <td>3.917808</td>\n",
       "      <td>3.0</td>\n",
       "      <td>6.0</td>\n",
       "      <td>3.0</td>\n",
       "      <td>3.8</td>\n",
       "      <td>3.8</td>\n",
       "      <td>3.8</td>\n",
       "      <td>99.0</td>\n",
       "      <td>1220.0</td>\n",
       "      <td>66.0</td>\n",
       "      <td>56013.0</td>\n",
       "      <td>1</td>\n",
       "      <td>0</td>\n",
       "      <td>0</td>\n",
       "      <td>1</td>\n",
       "      <td>0</td>\n",
       "      <td>0</td>\n",
       "      <td>0</td>\n",
       "      <td>0</td>\n",
       "      <td>0</td>\n",
       "      <td>0</td>\n",
       "      <td>0</td>\n",
       "      <td>0</td>\n",
       "      <td>1</td>\n",
       "      <td>0</td>\n",
       "      <td>0</td>\n",
       "      <td>1</td>\n",
       "      <td>0</td>\n",
       "      <td>0</td>\n",
       "      <td>0</td>\n",
       "      <td>0</td>\n",
       "      <td>0</td>\n",
       "      <td>0</td>\n",
       "      <td>0</td>\n",
       "      <td>1</td>\n",
       "      <td>0</td>\n",
       "      <td>0</td>\n",
       "      <td>0</td>\n",
       "      <td>0</td>\n",
       "      <td>0</td>\n",
       "      <td>1</td>\n",
       "      <td>0</td>\n",
       "      <td>0</td>\n",
       "      <td>0</td>\n",
       "      <td>0</td>\n",
       "      <td>1</td>\n",
       "      <td>0</td>\n",
       "      <td>0</td>\n",
       "      <td>0</td>\n",
       "      <td>0</td>\n",
       "      <td>0</td>\n",
       "      <td>0</td>\n",
       "      <td>0</td>\n",
       "      <td>0</td>\n",
       "      <td>0</td>\n",
       "      <td>0</td>\n",
       "      <td>0</td>\n",
       "      <td>0</td>\n",
       "      <td>1</td>\n",
       "      <td>0</td>\n",
       "      <td>0</td>\n",
       "      <td>0</td>\n",
       "      <td>1</td>\n",
       "      <td>0</td>\n",
       "      <td>1</td>\n",
       "      <td>0</td>\n",
       "    </tr>\n",
       "    <tr>\n",
       "      <th>1</th>\n",
       "      <td>14500</td>\n",
       "      <td>3.0</td>\n",
       "      <td>9.0</td>\n",
       "      <td>4.0</td>\n",
       "      <td>15.0</td>\n",
       "      <td>5.0</td>\n",
       "      <td>2.753425</td>\n",
       "      <td>4.0</td>\n",
       "      <td>7.0</td>\n",
       "      <td>4.0</td>\n",
       "      <td>5.6</td>\n",
       "      <td>5.6</td>\n",
       "      <td>5.6</td>\n",
       "      <td>129.0</td>\n",
       "      <td>1255.0</td>\n",
       "      <td>141.0</td>\n",
       "      <td>80000.0</td>\n",
       "      <td>1</td>\n",
       "      <td>0</td>\n",
       "      <td>0</td>\n",
       "      <td>1</td>\n",
       "      <td>0</td>\n",
       "      <td>0</td>\n",
       "      <td>0</td>\n",
       "      <td>0</td>\n",
       "      <td>0</td>\n",
       "      <td>0</td>\n",
       "      <td>0</td>\n",
       "      <td>0</td>\n",
       "      <td>1</td>\n",
       "      <td>0</td>\n",
       "      <td>0</td>\n",
       "      <td>0</td>\n",
       "      <td>0</td>\n",
       "      <td>1</td>\n",
       "      <td>0</td>\n",
       "      <td>0</td>\n",
       "      <td>0</td>\n",
       "      <td>0</td>\n",
       "      <td>0</td>\n",
       "      <td>1</td>\n",
       "      <td>0</td>\n",
       "      <td>0</td>\n",
       "      <td>0</td>\n",
       "      <td>0</td>\n",
       "      <td>0</td>\n",
       "      <td>1</td>\n",
       "      <td>0</td>\n",
       "      <td>0</td>\n",
       "      <td>0</td>\n",
       "      <td>0</td>\n",
       "      <td>0</td>\n",
       "      <td>0</td>\n",
       "      <td>0</td>\n",
       "      <td>0</td>\n",
       "      <td>0</td>\n",
       "      <td>0</td>\n",
       "      <td>0</td>\n",
       "      <td>0</td>\n",
       "      <td>1</td>\n",
       "      <td>0</td>\n",
       "      <td>0</td>\n",
       "      <td>0</td>\n",
       "      <td>0</td>\n",
       "      <td>1</td>\n",
       "      <td>0</td>\n",
       "      <td>0</td>\n",
       "      <td>1</td>\n",
       "      <td>0</td>\n",
       "      <td>0</td>\n",
       "      <td>1</td>\n",
       "      <td>0</td>\n",
       "    </tr>\n",
       "    <tr>\n",
       "      <th>2</th>\n",
       "      <td>14640</td>\n",
       "      <td>4.0</td>\n",
       "      <td>13.0</td>\n",
       "      <td>4.0</td>\n",
       "      <td>12.0</td>\n",
       "      <td>2.0</td>\n",
       "      <td>3.832877</td>\n",
       "      <td>2.0</td>\n",
       "      <td>6.0</td>\n",
       "      <td>3.0</td>\n",
       "      <td>3.8</td>\n",
       "      <td>3.8</td>\n",
       "      <td>3.8</td>\n",
       "      <td>99.0</td>\n",
       "      <td>1229.0</td>\n",
       "      <td>85.0</td>\n",
       "      <td>83450.0</td>\n",
       "      <td>1</td>\n",
       "      <td>0</td>\n",
       "      <td>0</td>\n",
       "      <td>1</td>\n",
       "      <td>0</td>\n",
       "      <td>0</td>\n",
       "      <td>0</td>\n",
       "      <td>0</td>\n",
       "      <td>0</td>\n",
       "      <td>0</td>\n",
       "      <td>0</td>\n",
       "      <td>0</td>\n",
       "      <td>1</td>\n",
       "      <td>0</td>\n",
       "      <td>0</td>\n",
       "      <td>1</td>\n",
       "      <td>0</td>\n",
       "      <td>0</td>\n",
       "      <td>0</td>\n",
       "      <td>0</td>\n",
       "      <td>0</td>\n",
       "      <td>0</td>\n",
       "      <td>0</td>\n",
       "      <td>1</td>\n",
       "      <td>0</td>\n",
       "      <td>0</td>\n",
       "      <td>0</td>\n",
       "      <td>0</td>\n",
       "      <td>0</td>\n",
       "      <td>1</td>\n",
       "      <td>0</td>\n",
       "      <td>0</td>\n",
       "      <td>0</td>\n",
       "      <td>0</td>\n",
       "      <td>1</td>\n",
       "      <td>0</td>\n",
       "      <td>0</td>\n",
       "      <td>0</td>\n",
       "      <td>0</td>\n",
       "      <td>0</td>\n",
       "      <td>0</td>\n",
       "      <td>0</td>\n",
       "      <td>0</td>\n",
       "      <td>0</td>\n",
       "      <td>0</td>\n",
       "      <td>0</td>\n",
       "      <td>0</td>\n",
       "      <td>1</td>\n",
       "      <td>0</td>\n",
       "      <td>0</td>\n",
       "      <td>0</td>\n",
       "      <td>1</td>\n",
       "      <td>0</td>\n",
       "      <td>1</td>\n",
       "      <td>0</td>\n",
       "    </tr>\n",
       "    <tr>\n",
       "      <th>3</th>\n",
       "      <td>14500</td>\n",
       "      <td>3.0</td>\n",
       "      <td>16.0</td>\n",
       "      <td>4.0</td>\n",
       "      <td>14.0</td>\n",
       "      <td>8.0</td>\n",
       "      <td>3.334247</td>\n",
       "      <td>3.0</td>\n",
       "      <td>6.0</td>\n",
       "      <td>3.0</td>\n",
       "      <td>3.8</td>\n",
       "      <td>3.8</td>\n",
       "      <td>3.8</td>\n",
       "      <td>99.0</td>\n",
       "      <td>1195.0</td>\n",
       "      <td>66.0</td>\n",
       "      <td>73000.0</td>\n",
       "      <td>1</td>\n",
       "      <td>0</td>\n",
       "      <td>0</td>\n",
       "      <td>1</td>\n",
       "      <td>0</td>\n",
       "      <td>0</td>\n",
       "      <td>0</td>\n",
       "      <td>0</td>\n",
       "      <td>0</td>\n",
       "      <td>0</td>\n",
       "      <td>0</td>\n",
       "      <td>0</td>\n",
       "      <td>1</td>\n",
       "      <td>0</td>\n",
       "      <td>0</td>\n",
       "      <td>1</td>\n",
       "      <td>0</td>\n",
       "      <td>0</td>\n",
       "      <td>0</td>\n",
       "      <td>0</td>\n",
       "      <td>0</td>\n",
       "      <td>0</td>\n",
       "      <td>0</td>\n",
       "      <td>1</td>\n",
       "      <td>0</td>\n",
       "      <td>0</td>\n",
       "      <td>0</td>\n",
       "      <td>0</td>\n",
       "      <td>0</td>\n",
       "      <td>1</td>\n",
       "      <td>0</td>\n",
       "      <td>0</td>\n",
       "      <td>0</td>\n",
       "      <td>0</td>\n",
       "      <td>0</td>\n",
       "      <td>0</td>\n",
       "      <td>0</td>\n",
       "      <td>1</td>\n",
       "      <td>0</td>\n",
       "      <td>0</td>\n",
       "      <td>0</td>\n",
       "      <td>0</td>\n",
       "      <td>0</td>\n",
       "      <td>0</td>\n",
       "      <td>0</td>\n",
       "      <td>0</td>\n",
       "      <td>0</td>\n",
       "      <td>1</td>\n",
       "      <td>0</td>\n",
       "      <td>0</td>\n",
       "      <td>0</td>\n",
       "      <td>1</td>\n",
       "      <td>0</td>\n",
       "      <td>1</td>\n",
       "      <td>0</td>\n",
       "    </tr>\n",
       "    <tr>\n",
       "      <th>4</th>\n",
       "      <td>16790</td>\n",
       "      <td>5.0</td>\n",
       "      <td>13.0</td>\n",
       "      <td>5.0</td>\n",
       "      <td>13.0</td>\n",
       "      <td>7.0</td>\n",
       "      <td>3.586301</td>\n",
       "      <td>4.0</td>\n",
       "      <td>6.0</td>\n",
       "      <td>3.0</td>\n",
       "      <td>4.1</td>\n",
       "      <td>4.1</td>\n",
       "      <td>4.1</td>\n",
       "      <td>109.0</td>\n",
       "      <td>1229.0</td>\n",
       "      <td>66.0</td>\n",
       "      <td>16200.0</td>\n",
       "      <td>1</td>\n",
       "      <td>0</td>\n",
       "      <td>0</td>\n",
       "      <td>1</td>\n",
       "      <td>0</td>\n",
       "      <td>0</td>\n",
       "      <td>0</td>\n",
       "      <td>0</td>\n",
       "      <td>0</td>\n",
       "      <td>0</td>\n",
       "      <td>0</td>\n",
       "      <td>0</td>\n",
       "      <td>1</td>\n",
       "      <td>0</td>\n",
       "      <td>0</td>\n",
       "      <td>1</td>\n",
       "      <td>0</td>\n",
       "      <td>0</td>\n",
       "      <td>0</td>\n",
       "      <td>0</td>\n",
       "      <td>0</td>\n",
       "      <td>0</td>\n",
       "      <td>0</td>\n",
       "      <td>1</td>\n",
       "      <td>0</td>\n",
       "      <td>0</td>\n",
       "      <td>0</td>\n",
       "      <td>0</td>\n",
       "      <td>0</td>\n",
       "      <td>1</td>\n",
       "      <td>0</td>\n",
       "      <td>0</td>\n",
       "      <td>0</td>\n",
       "      <td>0</td>\n",
       "      <td>1</td>\n",
       "      <td>0</td>\n",
       "      <td>0</td>\n",
       "      <td>0</td>\n",
       "      <td>0</td>\n",
       "      <td>0</td>\n",
       "      <td>0</td>\n",
       "      <td>0</td>\n",
       "      <td>0</td>\n",
       "      <td>0</td>\n",
       "      <td>0</td>\n",
       "      <td>0</td>\n",
       "      <td>0</td>\n",
       "      <td>1</td>\n",
       "      <td>0</td>\n",
       "      <td>0</td>\n",
       "      <td>0</td>\n",
       "      <td>1</td>\n",
       "      <td>0</td>\n",
       "      <td>1</td>\n",
       "      <td>0</td>\n",
       "    </tr>\n",
       "  </tbody>\n",
       "</table>\n",
       "</div>"
      ],
      "text/plain": [
       "   price  Nr_of_Doors3  Comfort_point3  Nr_of_Seats3  Safety_point3  Entertainment_point3      age3  Extras_point3  Gears3  Cylinders3  Consump_country3  Consump_city3  Consump_comb3  CO2_Emission3  Weight3    hp3      km3  make3_Audi  make3_Opel  make3_Renault  model3_A1  model3_A2  model3_A3  model3_Astra  model3_Clio  model3_Corsa  model3_Duster  model3_Espace  model3_Insignia  Gearing_Type3_Automatic  Gearing_Type3_Manual  Gearing_Type3_Semi-automatic  Fuel3_Diesel  Fuel3_Electric  Fuel3_Gasoline  Fuel3_LPG/CNG  Type3_Demonstration  Type3_Employee's car  Type3_New  Type3_Pre-registered  Type3_Used  body_type3_Compact  body_type3_Convertible  body_type3_Coupe  body_type3_Off-Road  body_type3_Other  body_type3_Sedans  body_type3_Station wagon  body_type3_Transporter  body_type3_Van  Body_Color3_Beige  Body_Color3_Black  Body_Color3_Blue  Body_Color3_Bronze  Body_Color3_Brown  Body_Color3_Gold  Body_Color3_Green  Body_Color3_Grey  Body_Color3_Orange  Body_Color3_Red  Body_Color3_Silver  Body_Color3_Violet  Body_Color3_White  Body_Color3_Yellow  Upholstery3_Cloth  Upholstery3_Full leather  Upholstery3_Part leather  vat3_Price negotiable  vat3_VAT deductible  Drive_chain3_4WD  Drive_chain3_front  Drive_chain3_rear\n",
       "0  15770           5.0            16.0           5.0           14.0                   4.0  3.917808            3.0     6.0         3.0               3.8            3.8            3.8           99.0   1220.0   66.0  56013.0           1           0              0          1          0          0             0            0             0              0              0                0                        1                     0                             0             1               0               0              0                    0                     0          0                     0           1                   0                       0                 0                    0                 0                  1                         0                       0               0                  0                  1                 0                   0                  0                 0                  0                 0                   0                0                   0                   0                  0                   0                  1                         0                         0                      0                    1                 0                   1                  0\n",
       "1  14500           3.0             9.0           4.0           15.0                   5.0  2.753425            4.0     7.0         4.0               5.6            5.6            5.6          129.0   1255.0  141.0  80000.0           1           0              0          1          0          0             0            0             0              0              0                0                        1                     0                             0             0               0               1              0                    0                     0          0                     0           1                   0                       0                 0                    0                 0                  1                         0                       0               0                  0                  0                 0                   0                  0                 0                  0                 0                   0                1                   0                   0                  0                   0                  1                         0                         0                      1                    0                 0                   1                  0\n",
       "2  14640           4.0            13.0           4.0           12.0                   2.0  3.832877            2.0     6.0         3.0               3.8            3.8            3.8           99.0   1229.0   85.0  83450.0           1           0              0          1          0          0             0            0             0              0              0                0                        1                     0                             0             1               0               0              0                    0                     0          0                     0           1                   0                       0                 0                    0                 0                  1                         0                       0               0                  0                  1                 0                   0                  0                 0                  0                 0                   0                0                   0                   0                  0                   0                  1                         0                         0                      0                    1                 0                   1                  0\n",
       "3  14500           3.0            16.0           4.0           14.0                   8.0  3.334247            3.0     6.0         3.0               3.8            3.8            3.8           99.0   1195.0   66.0  73000.0           1           0              0          1          0          0             0            0             0              0              0                0                        1                     0                             0             1               0               0              0                    0                     0          0                     0           1                   0                       0                 0                    0                 0                  1                         0                       0               0                  0                  0                 0                   0                  1                 0                  0                 0                   0                0                   0                   0                  0                   0                  1                         0                         0                      0                    1                 0                   1                  0\n",
       "4  16790           5.0            13.0           5.0           13.0                   7.0  3.586301            4.0     6.0         3.0               4.1            4.1            4.1          109.0   1229.0   66.0  16200.0           1           0              0          1          0          0             0            0             0              0              0                0                        1                     0                             0             1               0               0              0                    0                     0          0                     0           1                   0                       0                 0                    0                 0                  1                         0                       0               0                  0                  1                 0                   0                  0                 0                  0                 0                   0                0                   0                   0                  0                   0                  1                         0                         0                      0                    1                 0                   1                  0"
      ]
     },
     "execution_count": 180,
     "metadata": {},
     "output_type": "execute_result"
    }
   ],
   "source": [
    "# Checking dataframe\n",
    "car.head()"
   ]
  },
  {
   "cell_type": "code",
   "execution_count": 182,
   "metadata": {},
   "outputs": [],
   "source": [
    "# Exporting data to csv file\n",
    "car.to_csv (r'car_Part2_cleaned.csv', index = False, header=True)"
   ]
  },
  {
   "cell_type": "code",
   "execution_count": null,
   "metadata": {},
   "outputs": [],
   "source": []
  }
 ],
 "metadata": {
  "kernelspec": {
   "display_name": "Python 3",
   "language": "python",
   "name": "python3"
  },
  "language_info": {
   "codemirror_mode": {
    "name": "ipython",
    "version": 3
   },
   "file_extension": ".py",
   "mimetype": "text/x-python",
   "name": "python",
   "nbconvert_exporter": "python",
   "pygments_lexer": "ipython3",
   "version": "3.8.3"
  }
 },
 "nbformat": 4,
 "nbformat_minor": 4
}
